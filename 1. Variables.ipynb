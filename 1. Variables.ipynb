{
 "cells": [
  {
   "cell_type": "markdown",
   "id": "10acfaa8",
   "metadata": {},
   "source": [
    "### Python Basics"
   ]
  },
  {
   "cell_type": "markdown",
   "id": "c36b00ba",
   "metadata": {},
   "source": [
    "Lets Start Python"
   ]
  },
  {
   "cell_type": "code",
   "execution_count": 1,
   "id": "180fdf5d",
   "metadata": {},
   "outputs": [
    {
     "name": "stdout",
     "output_type": "stream",
     "text": [
      "Hello World\n"
     ]
    }
   ],
   "source": [
    "# Print Hello world\n",
    "print(\"Hello World\")"
   ]
  },
  {
   "cell_type": "code",
   "execution_count": 2,
   "id": "5e340ace",
   "metadata": {},
   "outputs": [
    {
     "name": "stdout",
     "output_type": "stream",
     "text": [
      "This is proper indenetation\n",
      "this is also proper indenetation\n",
      "this is also proper indentation\n"
     ]
    }
   ],
   "source": [
    "# Indentation - all statement in block should be equally spaced\n",
    "if 12>3:\n",
    "    print(\"This is proper indenetation\")\n",
    "    \n",
    "if 23<56:\n",
    " print(\"this is also proper indenetation\")\n",
    " print(\"this is also proper indentation\")\n"
   ]
  },
  {
   "cell_type": "code",
   "execution_count": 3,
   "id": "d29b202f",
   "metadata": {},
   "outputs": [
    {
     "ename": "IndentationError",
     "evalue": "unexpected indent (<ipython-input-3-292a95ec4115>, line 3)",
     "output_type": "error",
     "traceback": [
      "\u001b[0;36m  File \u001b[0;32m\"<ipython-input-3-292a95ec4115>\"\u001b[0;36m, line \u001b[0;32m3\u001b[0m\n\u001b[0;31m    print(\"this is second statement\")\u001b[0m\n\u001b[0m    ^\u001b[0m\n\u001b[0;31mIndentationError\u001b[0m\u001b[0;31m:\u001b[0m unexpected indent\n"
     ]
    }
   ],
   "source": [
    "# indentation not proper \n",
    "print(\"this is first statement\")\n",
    " print(\"this is second statement\")\n",
    "\n"
   ]
  },
  {
   "cell_type": "markdown",
   "id": "e86a8be0",
   "metadata": {},
   "source": [
    "### Coments in python"
   ]
  },
  {
   "cell_type": "markdown",
   "id": "57dad255",
   "metadata": {},
   "source": [
    "Comments can be used to explain Python code.\n",
    "\n",
    "Comments can be used to make the code more readable.\n",
    "\n",
    "Comments can be used to prevent execution when testing code.\n",
    "\n",
    "Comments starts with a #, and Python will ignore them"
   ]
  },
  {
   "cell_type": "code",
   "execution_count": 6,
   "id": "7cf90aeb",
   "metadata": {},
   "outputs": [
    {
     "name": "stdout",
     "output_type": "stream",
     "text": [
      "Hello, World!\n"
     ]
    }
   ],
   "source": [
    "#This is a comment\n",
    "print(\"Hello, World!\")"
   ]
  },
  {
   "cell_type": "code",
   "execution_count": 7,
   "id": "832c8571",
   "metadata": {},
   "outputs": [
    {
     "name": "stdout",
     "output_type": "stream",
     "text": [
      "Hello, World!\n"
     ]
    }
   ],
   "source": [
    "print(\"Hello, World!\") #This is a comment"
   ]
  },
  {
   "cell_type": "code",
   "execution_count": 8,
   "id": "b9a62727",
   "metadata": {},
   "outputs": [
    {
     "name": "stdout",
     "output_type": "stream",
     "text": [
      "this is statement1\n",
      "this is statement5\n"
     ]
    }
   ],
   "source": [
    "# Multiline Comment\n",
    "print(\"this is statement1\")\n",
    "#print(\"this is statement2\")\n",
    "#print(\"this is statement3\")\n",
    "#print(\"this is statement4\")\n",
    "print(\"this is statement5\")"
   ]
  },
  {
   "cell_type": "code",
   "execution_count": 9,
   "id": "f550c172",
   "metadata": {},
   "outputs": [
    {
     "name": "stdout",
     "output_type": "stream",
     "text": [
      "This statement will execute\n"
     ]
    }
   ],
   "source": [
    "# create multiline string and don't assign it to anything, \n",
    "# this will create multiline comment in python\n",
    "\"\"\"\n",
    "Hello Everyone,\n",
    "Welcome...\n",
    "Lets Learn basics of python\n",
    "this is a comment\n",
    "\"\"\"\n",
    "print(\"This statement will execute\")"
   ]
  },
  {
   "cell_type": "markdown",
   "id": "80d2bc91",
   "metadata": {},
   "source": [
    "### Variabes"
   ]
  },
  {
   "cell_type": "markdown",
   "id": "728fbdad",
   "metadata": {},
   "source": [
    "Variables are containers for storing data values"
   ]
  },
  {
   "cell_type": "markdown",
   "id": "f51a5a86",
   "metadata": {},
   "source": [
    "Python has no command for declaring a variable.\n",
    "\n",
    "A variable is created the moment you first assign a value to it."
   ]
  },
  {
   "cell_type": "code",
   "execution_count": 10,
   "id": "4488f352",
   "metadata": {},
   "outputs": [
    {
     "name": "stdout",
     "output_type": "stream",
     "text": [
      "5\n",
      "John\n"
     ]
    }
   ],
   "source": [
    "x = 5\n",
    "y = \"John\"\n",
    "print(x)\n",
    "print(y)"
   ]
  },
  {
   "cell_type": "markdown",
   "id": "c6281944",
   "metadata": {},
   "source": [
    "You can get the data type of a variable with the type() function."
   ]
  },
  {
   "cell_type": "code",
   "execution_count": 16,
   "id": "8e4d9893",
   "metadata": {},
   "outputs": [],
   "source": [
    "x=5\n",
    "y='5'"
   ]
  },
  {
   "cell_type": "code",
   "execution_count": 18,
   "id": "1306922f",
   "metadata": {},
   "outputs": [
    {
     "name": "stdout",
     "output_type": "stream",
     "text": [
      "<class 'int'>\n",
      "<class 'str'>\n"
     ]
    }
   ],
   "source": [
    "print(type(x))\n",
    "print(type(y))"
   ]
  },
  {
   "cell_type": "markdown",
   "id": "acfd9f3a",
   "metadata": {},
   "source": [
    "Variable names are case-sensitive."
   ]
  },
  {
   "cell_type": "code",
   "execution_count": 20,
   "id": "8e1f7c21",
   "metadata": {},
   "outputs": [
    {
     "name": "stdout",
     "output_type": "stream",
     "text": [
      "<class 'int'>\n",
      "<class 'str'>\n"
     ]
    }
   ],
   "source": [
    "a=5\n",
    "A='Apple'\n",
    "print(type(a))\n",
    "print(type(A))"
   ]
  },
  {
   "cell_type": "markdown",
   "id": "4bd850cc",
   "metadata": {},
   "source": [
    "Variable Names:-\n",
    "\n",
    "A variable can have a short name (like x and y) or more descriptive like (Learn_python, its_me)\n",
    "\n",
    "A variable name must start with a letter or the underscore character\n",
    "\n",
    "A variable name cannot start with a number\n",
    "\n",
    "A variable name can only contain alpha-numeric characters and underscores (A-z, 0-9, and _ )\n",
    "\n",
    "Variable names are case-sensitive (age, Age and AGE are three different variables)\n"
   ]
  },
  {
   "cell_type": "code",
   "execution_count": 23,
   "id": "c9d89891",
   "metadata": {},
   "outputs": [
    {
     "ename": "SyntaxError",
     "evalue": "invalid syntax (<ipython-input-23-ac7bffd5ca1a>, line 3)",
     "output_type": "error",
     "traceback": [
      "\u001b[0;36m  File \u001b[0;32m\"<ipython-input-23-ac7bffd5ca1a>\"\u001b[0;36m, line \u001b[0;32m3\u001b[0m\n\u001b[0;31m    1var=45    # invalid\u001b[0m\n\u001b[0m     ^\u001b[0m\n\u001b[0;31mSyntaxError\u001b[0m\u001b[0;31m:\u001b[0m invalid syntax\n"
     ]
    }
   ],
   "source": [
    "# Valid or invalid Variables\n",
    "var1=12    # Valid\n",
    "1var=45    # invalid\n",
    "var#=\"hello\"  # invalid\n",
    "var76c=56.76  # Valid\n",
    "_var7=99     # Valid"
   ]
  },
  {
   "cell_type": "markdown",
   "id": "7f032af6",
   "metadata": {},
   "source": [
    "Python allows you to assign values to multiple variables in one line:"
   ]
  },
  {
   "cell_type": "code",
   "execution_count": 24,
   "id": "7cbc826a",
   "metadata": {},
   "outputs": [
    {
     "name": "stdout",
     "output_type": "stream",
     "text": [
      "Orange\n",
      "Banana\n",
      "Cherry\n"
     ]
    }
   ],
   "source": [
    "x, y, z = \"Orange\", \"Banana\", \"Cherry\"\n",
    "print(x)\n",
    "print(y)\n",
    "print(z)"
   ]
  },
  {
   "cell_type": "markdown",
   "id": "a4a37fd8",
   "metadata": {},
   "source": [
    "And you can assign the same value to multiple variables in one line:"
   ]
  },
  {
   "cell_type": "code",
   "execution_count": 25,
   "id": "0982cded",
   "metadata": {},
   "outputs": [
    {
     "name": "stdout",
     "output_type": "stream",
     "text": [
      "Orange\n",
      "Orange\n",
      "Orange\n"
     ]
    }
   ],
   "source": [
    "x = y = z = \"Orange\"\n",
    "print(x)\n",
    "print(y)\n",
    "print(z)"
   ]
  },
  {
   "cell_type": "markdown",
   "id": "8d1ccf8b",
   "metadata": {},
   "source": [
    "We can combine both text and a variable, Python uses the + character"
   ]
  },
  {
   "cell_type": "code",
   "execution_count": 26,
   "id": "cf4b5153",
   "metadata": {},
   "outputs": [
    {
     "name": "stdout",
     "output_type": "stream",
     "text": [
      "Python is awesome\n"
     ]
    }
   ],
   "source": [
    "x = \"awesome\"\n",
    "print(\"Python is \" + x)"
   ]
  },
  {
   "cell_type": "code",
   "execution_count": 27,
   "id": "dd8bc017",
   "metadata": {},
   "outputs": [
    {
     "name": "stdout",
     "output_type": "stream",
     "text": [
      "Python is awesome\n",
      "Python isawesome\n",
      "Python is awesome\n"
     ]
    }
   ],
   "source": [
    "x=\"awesome\"\n",
    "print(\"Python is\",x)\n",
    "print(\"Python is\"+x)\n",
    "print(\"Python is\"+\" \"+x)"
   ]
  },
  {
   "cell_type": "code",
   "execution_count": 28,
   "id": "b158f4b4",
   "metadata": {},
   "outputs": [
    {
     "name": "stdout",
     "output_type": "stream",
     "text": [
      "Python is awesome\n"
     ]
    }
   ],
   "source": [
    "# if both variables are string it will concate\n",
    "x = \"Python is \"\n",
    "y = \"awesome\"\n",
    "z =  x + y\n",
    "print(z)"
   ]
  },
  {
   "cell_type": "code",
   "execution_count": 31,
   "id": "319acb20",
   "metadata": {},
   "outputs": [
    {
     "name": "stdout",
     "output_type": "stream",
     "text": [
      "57.3\n"
     ]
    }
   ],
   "source": [
    "# float + int = float\n",
    "n1=23.3\n",
    "n2=34\n",
    "n3=n1+n2\n",
    "print(n3)"
   ]
  },
  {
   "cell_type": "code",
   "execution_count": 30,
   "id": "fe4a9a0d",
   "metadata": {},
   "outputs": [
    {
     "name": "stdout",
     "output_type": "stream",
     "text": [
      "<class 'str'>\n",
      "<class 'int'>\n"
     ]
    },
    {
     "ename": "TypeError",
     "evalue": "can only concatenate str (not \"int\") to str",
     "output_type": "error",
     "traceback": [
      "\u001b[0;31m---------------------------------------------------------------------------\u001b[0m",
      "\u001b[0;31mTypeError\u001b[0m                                 Traceback (most recent call last)",
      "\u001b[0;32m<ipython-input-30-13cb03e816a2>\u001b[0m in \u001b[0;36m<module>\u001b[0;34m\u001b[0m\n\u001b[1;32m      4\u001b[0m \u001b[0mprint\u001b[0m\u001b[0;34m(\u001b[0m\u001b[0mtype\u001b[0m\u001b[0;34m(\u001b[0m\u001b[0mx\u001b[0m\u001b[0;34m)\u001b[0m\u001b[0;34m)\u001b[0m\u001b[0;34m\u001b[0m\u001b[0;34m\u001b[0m\u001b[0m\n\u001b[1;32m      5\u001b[0m \u001b[0mprint\u001b[0m\u001b[0;34m(\u001b[0m\u001b[0mtype\u001b[0m\u001b[0;34m(\u001b[0m\u001b[0my\u001b[0m\u001b[0;34m)\u001b[0m\u001b[0;34m)\u001b[0m\u001b[0;34m\u001b[0m\u001b[0;34m\u001b[0m\u001b[0m\n\u001b[0;32m----> 6\u001b[0;31m \u001b[0mprint\u001b[0m\u001b[0;34m(\u001b[0m\u001b[0mx\u001b[0m\u001b[0;34m+\u001b[0m\u001b[0my\u001b[0m\u001b[0;34m)\u001b[0m\u001b[0;34m\u001b[0m\u001b[0;34m\u001b[0m\u001b[0m\n\u001b[0m",
      "\u001b[0;31mTypeError\u001b[0m: can only concatenate str (not \"int\") to str"
     ]
    }
   ],
   "source": [
    "#If you try to combine a string and a number, Python will give you an error\n",
    "x=\"Hello\"\n",
    "y=10\n",
    "print(type(x))\n",
    "print(type(y))\n",
    "print(x+y)"
   ]
  },
  {
   "cell_type": "markdown",
   "id": "4fb1676c",
   "metadata": {},
   "source": [
    "### Global Variables"
   ]
  },
  {
   "cell_type": "markdown",
   "id": "1a24a433",
   "metadata": {},
   "source": [
    "Variables that are created outside of a function are known as global variables.\n",
    "\n",
    "Global variables can be used by everyone, both inside and outside of functions."
   ]
  },
  {
   "cell_type": "code",
   "execution_count": 1,
   "id": "daa9c927",
   "metadata": {},
   "outputs": [
    {
     "name": "stdout",
     "output_type": "stream",
     "text": [
      "Python is awesome\n"
     ]
    }
   ],
   "source": [
    "# Global Variable Scope - Entire Program\n",
    "x = \"awesome\"    #Global Variable\n",
    "\n",
    "def myfunc():    #Create Function\n",
    "  print(\"Python is\",x)\n",
    "\n",
    "myfunc()         #Function Call"
   ]
  },
  {
   "cell_type": "markdown",
   "id": "e0abf8b9",
   "metadata": {},
   "source": [
    "### Local Variable"
   ]
  },
  {
   "cell_type": "markdown",
   "id": "63ab9f76",
   "metadata": {},
   "source": [
    "A local variable can only be accessed within a particular function."
   ]
  },
  {
   "cell_type": "code",
   "execution_count": 6,
   "id": "225d94c8",
   "metadata": {},
   "outputs": [
    {
     "name": "stdout",
     "output_type": "stream",
     "text": [
      "This flower is very Beautiful\n"
     ]
    }
   ],
   "source": [
    "def myFun():        #Create Function\n",
    "    a='Beautiful'   #Create local Variable\n",
    "    print(\"This flower is very\",a)\n",
    "myFun()             #Funtion Call"
   ]
  },
  {
   "cell_type": "markdown",
   "id": "1b32a061",
   "metadata": {},
   "source": [
    "\n",
    "\n",
    "\n",
    "If you create a variable with the same name inside a function, this variable will be local,\n",
    "and can only be used inside the function. The global variable with the same name will remain as it was,\n",
    "global and with the original value."
   ]
  },
  {
   "cell_type": "code",
   "execution_count": 2,
   "id": "2e987e31",
   "metadata": {},
   "outputs": [
    {
     "name": "stdout",
     "output_type": "stream",
     "text": [
      "Python is fantastic\n",
      "Python is awesome\n"
     ]
    }
   ],
   "source": [
    "x = \"awesome\"\n",
    "\n",
    "def myfunc():\n",
    "  x = \"fantastic\"\n",
    "  print(\"Python is \" + x)\n",
    "\n",
    "myfunc()\n",
    "\n",
    "print(\"Python is \" + x) "
   ]
  },
  {
   "cell_type": "markdown",
   "id": "ccd68bc6",
   "metadata": {},
   "source": [
    "### Global Keyword"
   ]
  },
  {
   "cell_type": "markdown",
   "id": "dfaa27cf",
   "metadata": {},
   "source": [
    "when we create a variable inside a function, that variable is local, and can only be used inside that function.\n",
    "\n",
    "To create a global variable inside a function, you can use the global keyword.\n",
    "\n",
    "Means we can make local variable global by using global keyword"
   ]
  },
  {
   "cell_type": "code",
   "execution_count": 8,
   "id": "b84eada1",
   "metadata": {},
   "outputs": [
    {
     "name": "stdout",
     "output_type": "stream",
     "text": [
      "In these we make local variable global\n",
      "Python is fantastic\n"
     ]
    }
   ],
   "source": [
    "def myfunc():\n",
    "  global x\n",
    "  x = \"fantastic\"\n",
    "  print(\"In these we make local variable global\")\n",
    "myfunc()\n",
    "\n",
    "print(\"Python is \" + x) "
   ]
  },
  {
   "cell_type": "markdown",
   "id": "3255ad5e",
   "metadata": {},
   "source": [
    "Also we use the global keyword if we want to change a global variable inside a function."
   ]
  },
  {
   "cell_type": "code",
   "execution_count": 9,
   "id": "ddbadeac",
   "metadata": {},
   "outputs": [
    {
     "name": "stdout",
     "output_type": "stream",
     "text": [
      "Python is fantastic\n"
     ]
    }
   ],
   "source": [
    "x = \"awesome\"\n",
    "\n",
    "def myfunc():\n",
    "  global x\n",
    "  x = \"fantastic\"\n",
    "\n",
    "myfunc()\n",
    "\n",
    "print(\"Python is \" + x) "
   ]
  },
  {
   "cell_type": "code",
   "execution_count": null,
   "id": "f778c81f",
   "metadata": {},
   "outputs": [],
   "source": []
  }
 ],
 "metadata": {
  "kernelspec": {
   "display_name": "Python 3",
   "language": "python",
   "name": "python3"
  },
  "language_info": {
   "codemirror_mode": {
    "name": "ipython",
    "version": 3
   },
   "file_extension": ".py",
   "mimetype": "text/x-python",
   "name": "python",
   "nbconvert_exporter": "python",
   "pygments_lexer": "ipython3",
   "version": "3.8.8"
  }
 },
 "nbformat": 4,
 "nbformat_minor": 5
}
