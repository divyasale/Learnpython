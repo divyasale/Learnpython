{
 "cells": [
  {
   "cell_type": "markdown",
   "id": "601980e0",
   "metadata": {},
   "source": [
    "### Data Types"
   ]
  },
  {
   "cell_type": "markdown",
   "id": "b5a5cc89",
   "metadata": {},
   "source": [
    "Variables can store data of different types, and different types can do different things."
   ]
  },
  {
   "cell_type": "markdown",
   "id": "bfe4b427",
   "metadata": {},
   "source": [
    "You can get the data type of any object by using the type() function"
   ]
  },
  {
   "cell_type": "code",
   "execution_count": null,
   "id": "32c71654",
   "metadata": {},
   "outputs": [],
   "source": [
    "# Data Types in Python\n",
    "x='this is string'  # string\n",
    "y=82            # int\n",
    "z=20.32     # float\n",
    "a=12+5j     # complex\n",
    "b=[\"apple\",\"banana\",\"grapes\"]   # list\n",
    "c=(\"apple\",\"banana\",\"grapes\")   # tuple\n",
    "d=range(6)                      # range\n",
    "e={name:\"prathamesh\",age:23}    # dict\n",
    "f={\"mango\",\"orange\",\"pineapple\"} # set\n",
    "g=frozenset({\"mango\",\"orange\",\"pineapple\"})   #fronzenset\n",
    "h=True       # bool\n",
    "i=b\"Hello\"   # bytes\n",
    "j=bytearray(5)   # bytesarray\n",
    "k=memoryview(bytes(5))   # memoryview"
   ]
  },
  {
   "cell_type": "markdown",
   "id": "f66aaf52",
   "metadata": {},
   "source": [
    "### Int"
   ]
  },
  {
   "cell_type": "markdown",
   "id": "e98af160",
   "metadata": {},
   "source": [
    "int, or integer, is a whole number, positive or negative, without decimals, of unlimited length."
   ]
  },
  {
   "cell_type": "code",
   "execution_count": 10,
   "id": "1cce65c9",
   "metadata": {},
   "outputs": [
    {
     "name": "stdout",
     "output_type": "stream",
     "text": [
      "<class 'int'>\n",
      "<class 'int'>\n",
      "<class 'int'>\n"
     ]
    }
   ],
   "source": [
    "a=5\n",
    "b=-15222\n",
    "c=86574931125887469874512365987    # There is No restriction for variable for its size of data\n",
    "print(type(a))\n",
    "print(type(b))\n",
    "print(type(c))"
   ]
  },
  {
   "cell_type": "markdown",
   "id": "99d9b0ca",
   "metadata": {},
   "source": [
    "### Float"
   ]
  },
  {
   "cell_type": "markdown",
   "id": "b5a11a84",
   "metadata": {},
   "source": [
    "Float, or \"floating point number\" is a number, positive or negative, containing one or more decimals."
   ]
  },
  {
   "cell_type": "code",
   "execution_count": 11,
   "id": "1803ca7d",
   "metadata": {},
   "outputs": [
    {
     "name": "stdout",
     "output_type": "stream",
     "text": [
      "<class 'float'>\n",
      "<class 'float'>\n",
      "<class 'float'>\n"
     ]
    }
   ],
   "source": [
    "a=1.0\n",
    "b=1.22254\n",
    "c=452.78962\n",
    "print(type(a))\n",
    "print(type(b))\n",
    "print(type(c))"
   ]
  },
  {
   "cell_type": "markdown",
   "id": "eef71aa4",
   "metadata": {},
   "source": [
    "### Complex"
   ]
  },
  {
   "cell_type": "markdown",
   "id": "11e603ef",
   "metadata": {},
   "source": [
    "Complex numbers are written with a \"j\" as the imaginary part"
   ]
  },
  {
   "cell_type": "code",
   "execution_count": 13,
   "id": "666a4d43",
   "metadata": {},
   "outputs": [
    {
     "name": "stdout",
     "output_type": "stream",
     "text": [
      "<class 'complex'>\n",
      "<class 'complex'>\n",
      "<class 'complex'>\n"
     ]
    }
   ],
   "source": [
    "a=4j\n",
    "b=7+9j\n",
    "c=-8j\n",
    "print(type(a))\n",
    "print(type(b))\n",
    "print(type(c))"
   ]
  },
  {
   "cell_type": "markdown",
   "id": "024d97d2",
   "metadata": {},
   "source": [
    "You can convert from one type to another with the int(), float(), and complex() methods"
   ]
  },
  {
   "cell_type": "code",
   "execution_count": 17,
   "id": "a33063dc",
   "metadata": {},
   "outputs": [
    {
     "name": "stdout",
     "output_type": "stream",
     "text": [
      "<class 'float'> -> 5.0\n",
      "<class 'int'> -> 1\n",
      "<class 'complex'> -> (5+0j)\n"
     ]
    }
   ],
   "source": [
    "a=5\n",
    "b=1.5\n",
    "c=8+2j\n",
    "\n",
    "#Convert int to float\n",
    "x=float(a)\n",
    "\n",
    "#Convert float to int\n",
    "y=int(b)\n",
    "\n",
    "#Convert int to complex\n",
    "z=complex(a)\n",
    "\n",
    "\n",
    "print(type(x), \"->\" ,x)\n",
    "print(type(y), \"->\" ,y)\n",
    "print(type(z), \"->\" ,z)"
   ]
  },
  {
   "cell_type": "markdown",
   "id": "4524c768",
   "metadata": {},
   "source": [
    "Python does not have a random() function to make a random number, but Python has a built-in module \n",
    "called random that can be used to make random numbers"
   ]
  },
  {
   "cell_type": "code",
   "execution_count": 5,
   "id": "0c15465e",
   "metadata": {},
   "outputs": [
    {
     "name": "stdout",
     "output_type": "stream",
     "text": [
      "8\n"
     ]
    }
   ],
   "source": [
    "import random\n",
    "print(random.randrange(1,10))"
   ]
  },
  {
   "cell_type": "markdown",
   "id": "e5ade8ec",
   "metadata": {},
   "source": [
    "### String"
   ]
  },
  {
   "cell_type": "markdown",
   "id": "dc7fbd11",
   "metadata": {},
   "source": [
    "Strings in python are surrounded by either single quotation marks, or double quotation marks.\n",
    "\n",
    "'hello' is the same as \"hello\""
   ]
  },
  {
   "cell_type": "code",
   "execution_count": 6,
   "id": "7ef64d5d",
   "metadata": {},
   "outputs": [
    {
     "name": "stdout",
     "output_type": "stream",
     "text": [
      "Divya\n",
      "Pratibha\n"
     ]
    }
   ],
   "source": [
    "a='Divya'\n",
    "b=\"Pratibha\"\n",
    "print(a)\n",
    "print(b)"
   ]
  },
  {
   "cell_type": "code",
   "execution_count": 7,
   "id": "ed6dfb06",
   "metadata": {},
   "outputs": [
    {
     "name": "stdout",
     "output_type": "stream",
     "text": [
      "This \n",
      "is \n",
      "very \n",
      "large \n",
      "string\n",
      "\n"
     ]
    }
   ],
   "source": [
    "#we can assign a multiline string to a variable by using three quotes or three single quote\n",
    "#strings are nothing but array of characters\n",
    "str1=\"\"\"This \n",
    "is \n",
    "very \n",
    "large \n",
    "string\n",
    "\"\"\"\n",
    "\n",
    "print(str1)"
   ]
  },
  {
   "cell_type": "code",
   "execution_count": 10,
   "id": "40a4f6e6",
   "metadata": {},
   "outputs": [
    {
     "name": "stdout",
     "output_type": "stream",
     "text": [
      "e\n"
     ]
    }
   ],
   "source": [
    "#Get any character from string\n",
    "string=\"Hello World\"\n",
    "print(string[1])    #get character ate position 1 (Position starts from 0)"
   ]
  },
  {
   "cell_type": "code",
   "execution_count": 13,
   "id": "1d0f86b2",
   "metadata": {},
   "outputs": [
    {
     "name": "stdout",
     "output_type": "stream",
     "text": [
      "W\n"
     ]
    }
   ],
   "source": [
    "print(string[6])"
   ]
  },
  {
   "cell_type": "code",
   "execution_count": 14,
   "id": "ac671496",
   "metadata": {},
   "outputs": [
    {
     "name": "stdout",
     "output_type": "stream",
     "text": [
      "9\n"
     ]
    }
   ],
   "source": [
    "#To get the length of a string, use the len() function.\n",
    "a=\"Aishwarya\"\n",
    "print(len(a))"
   ]
  },
  {
   "cell_type": "code",
   "execution_count": 16,
   "id": "c973ba67",
   "metadata": {},
   "outputs": [
    {
     "name": "stdout",
     "output_type": "stream",
     "text": [
      "True\n"
     ]
    }
   ],
   "source": [
    "#To check if a certain phrase or character is present in a string, we can use the keyword in\n",
    "x=\"The distance to success is measured by your own drive\"\n",
    "print(\"success\" in x)"
   ]
  },
  {
   "cell_type": "code",
   "execution_count": 17,
   "id": "b1085f83",
   "metadata": {},
   "outputs": [
    {
     "name": "stdout",
     "output_type": "stream",
     "text": [
      "False\n"
     ]
    }
   ],
   "source": [
    "print(\"Hello\" in x)"
   ]
  },
  {
   "cell_type": "code",
   "execution_count": 20,
   "id": "f1328fc0",
   "metadata": {},
   "outputs": [
    {
     "name": "stdout",
     "output_type": "stream",
     "text": [
      "Own is present\n"
     ]
    }
   ],
   "source": [
    "if (\"own\" in x):\n",
    "    print(\"Own is present\")"
   ]
  },
  {
   "cell_type": "code",
   "execution_count": 21,
   "id": "e9a4080c",
   "metadata": {},
   "outputs": [
    {
     "name": "stdout",
     "output_type": "stream",
     "text": [
      "True\n"
     ]
    }
   ],
   "source": [
    "#To check if a certain phrase or character is NOT present in a string, we can use the keyword not in\n",
    "print(\"towards\" not in x)"
   ]
  },
  {
   "cell_type": "markdown",
   "id": "daa7b782",
   "metadata": {},
   "source": [
    "#Slicing\n",
    "\n",
    "You can return a range of characters by using the slice syntax.\n",
    "\n",
    "Specify the start index and the end index, separated by a colon, to return a part of the string."
   ]
  },
  {
   "cell_type": "code",
   "execution_count": 23,
   "id": "0d4b3096",
   "metadata": {},
   "outputs": [
    {
     "name": "stdout",
     "output_type": "stream",
     "text": [
      "thon Pr\n"
     ]
    }
   ],
   "source": [
    "a= \"Python Programming\"\n",
    "#Slice from 2 to 8\n",
    "print(a[2:9])"
   ]
  },
  {
   "cell_type": "code",
   "execution_count": 26,
   "id": "d5795659",
   "metadata": {},
   "outputs": [
    {
     "name": "stdout",
     "output_type": "stream",
     "text": [
      "Python Programming\n"
     ]
    }
   ],
   "source": [
    "#Slice from starting\n",
    "print(a[:18])"
   ]
  },
  {
   "cell_type": "code",
   "execution_count": 27,
   "id": "91895fae",
   "metadata": {},
   "outputs": [
    {
     "name": "stdout",
     "output_type": "stream",
     "text": [
      "Python Programming\n"
     ]
    }
   ],
   "source": [
    "#Slice to end\n",
    "print(a[0:])"
   ]
  },
  {
   "cell_type": "code",
   "execution_count": 34,
   "id": "68522e44",
   "metadata": {},
   "outputs": [
    {
     "name": "stdout",
     "output_type": "stream",
     "text": [
      "Program\n"
     ]
    }
   ],
   "source": [
    "#Negative Indexing- To slice the string from end of string\n",
    "print(a[-11:-4])"
   ]
  },
  {
   "cell_type": "code",
   "execution_count": 37,
   "id": "6a81dc32",
   "metadata": {},
   "outputs": [
    {
     "name": "stdout",
     "output_type": "stream",
     "text": [
      "HELLO WORLD\n"
     ]
    }
   ],
   "source": [
    "#Upper case\n",
    "x=\"Hello World\"\n",
    "print(x.upper())"
   ]
  },
  {
   "cell_type": "code",
   "execution_count": 38,
   "id": "48f00771",
   "metadata": {},
   "outputs": [
    {
     "name": "stdout",
     "output_type": "stream",
     "text": [
      "hello world\n"
     ]
    }
   ],
   "source": [
    "#Lower Case\n",
    "print(x.lower())"
   ]
  },
  {
   "cell_type": "code",
   "execution_count": 39,
   "id": "88629262",
   "metadata": {},
   "outputs": [
    {
     "name": "stdout",
     "output_type": "stream",
     "text": [
      "Hello World  !!\n"
     ]
    }
   ],
   "source": [
    "#Striping Method\n",
    "a=\"   Hello World  !!\"\n",
    "print(a.strip())"
   ]
  },
  {
   "cell_type": "code",
   "execution_count": 40,
   "id": "96624d9b",
   "metadata": {},
   "outputs": [
    {
     "name": "stdout",
     "output_type": "stream",
     "text": [
      "   Tello World  !!\n"
     ]
    }
   ],
   "source": [
    "#Replace String - replaces a string with another string\n",
    "print(a.replace(\"H\",\"T\"))\n"
   ]
  },
  {
   "cell_type": "code",
   "execution_count": 41,
   "id": "132fcd37",
   "metadata": {},
   "outputs": [
    {
     "name": "stdout",
     "output_type": "stream",
     "text": [
      "['Hello', ' World']\n",
      "Hello\n",
      " World\n"
     ]
    }
   ],
   "source": [
    "#Split String - splits the string into substrings\n",
    "name=\"Hello, World\"\n",
    "print(name.split(\",\"))\n",
    "str1,str2=name.split(\",\")\n",
    "print(str1)\n",
    "print(str2)"
   ]
  },
  {
   "cell_type": "code",
   "execution_count": 42,
   "id": "db9e806b",
   "metadata": {},
   "outputs": [
    {
     "name": "stdout",
     "output_type": "stream",
     "text": [
      "PythonProgramming\n"
     ]
    }
   ],
   "source": [
    "#String Concatination\n",
    "a=\"Python\"\n",
    "b=\"Programming\"\n",
    "c=a+b\n",
    "print(c)"
   ]
  },
  {
   "cell_type": "code",
   "execution_count": 43,
   "id": "c6675742",
   "metadata": {},
   "outputs": [
    {
     "name": "stdout",
     "output_type": "stream",
     "text": [
      "Python Programming\n"
     ]
    }
   ],
   "source": [
    "#To add space we use \"\"\n",
    "c=a+\" \"+b\n",
    "print(c)"
   ]
  },
  {
   "cell_type": "code",
   "execution_count": 46,
   "id": "069cac10",
   "metadata": {},
   "outputs": [
    {
     "name": "stdout",
     "output_type": "stream",
     "text": [
      "My name is John, and I am 36\n"
     ]
    }
   ],
   "source": [
    "#String Format\n",
    "#we can combine strings and numbers by using the format() method\n",
    "#The format() method takes the passed arguments, formats them, and places \n",
    "#them in the string where the placeholders {} are\n",
    "\n",
    "age = 36\n",
    "txt = \"My name is John, and I am {}\"\n",
    "print(txt.format(age))"
   ]
  },
  {
   "cell_type": "code",
   "execution_count": 48,
   "id": "f4a3526f",
   "metadata": {},
   "outputs": [
    {
     "name": "stdout",
     "output_type": "stream",
     "text": [
      "i have ordered 10 items, each of 12 quantities with price 35\n"
     ]
    }
   ],
   "source": [
    "q=12\n",
    "p=35\n",
    "ino=10\n",
    "order=\"i have ordered {} items, each of {} quantities with price {}\"\n",
    "print(order.format(ino,q,p))"
   ]
  },
  {
   "cell_type": "markdown",
   "id": "57aaa621",
   "metadata": {},
   "source": [
    "### Boolean"
   ]
  },
  {
   "cell_type": "markdown",
   "id": "adeff5c1",
   "metadata": {},
   "source": [
    "Booleans represent one of two values: True or False"
   ]
  },
  {
   "cell_type": "code",
   "execution_count": 49,
   "id": "55fbebb6",
   "metadata": {},
   "outputs": [
    {
     "name": "stdout",
     "output_type": "stream",
     "text": [
      "True\n",
      "True\n",
      "False\n"
     ]
    }
   ],
   "source": [
    "print(5>2)\n",
    "print(6==6)\n",
    "print(10<7)"
   ]
  },
  {
   "cell_type": "code",
   "execution_count": 52,
   "id": "54ed5b74",
   "metadata": {},
   "outputs": [
    {
     "name": "stdout",
     "output_type": "stream",
     "text": [
      "b is greater than a\n"
     ]
    }
   ],
   "source": [
    "a=5\n",
    "b=10\n",
    "if(a>b):\n",
    "    print(\"a is greater than b\")\n",
    "else:\n",
    "    print(\"b is greater than a\")"
   ]
  },
  {
   "cell_type": "code",
   "execution_count": 53,
   "id": "689ba4c9",
   "metadata": {},
   "outputs": [
    {
     "name": "stdout",
     "output_type": "stream",
     "text": [
      "True\n",
      "True\n"
     ]
    }
   ],
   "source": [
    "#The bool() function allows you to evaluate any value, and give you True or False in return\n",
    "print(bool(\"hello\"))\n",
    "print(bool(40))"
   ]
  },
  {
   "cell_type": "code",
   "execution_count": 54,
   "id": "ad3c01ac",
   "metadata": {},
   "outputs": [
    {
     "name": "stdout",
     "output_type": "stream",
     "text": [
      "True\n",
      "True\n"
     ]
    }
   ],
   "source": [
    "a=\"Hello\"\n",
    "b=40\n",
    "print(bool(a))\n",
    "print(bool(b))"
   ]
  },
  {
   "cell_type": "code",
   "execution_count": 62,
   "id": "620cd3c9",
   "metadata": {},
   "outputs": [
    {
     "name": "stdout",
     "output_type": "stream",
     "text": [
      "False\n",
      "False\n",
      "False\n",
      "False\n",
      "False\n",
      "False\n",
      "False\n"
     ]
    }
   ],
   "source": [
    "#Any string is True, except empty strings.\n",
    "#Any number is True, except 0.\n",
    "#Any list, tuple, set, and dictionary are True, except empty ones\n",
    "\n",
    "print(bool(\"\"))\n",
    "print(bool(0))\n",
    "print(bool([]))\n",
    "print(bool({}))\n",
    "print(bool(()))\n",
    "print(bool(None))\n",
    "print(bool(False))"
   ]
  },
  {
   "cell_type": "code",
   "execution_count": 63,
   "id": "50584272",
   "metadata": {},
   "outputs": [
    {
     "name": "stdout",
     "output_type": "stream",
     "text": [
      "True\n"
     ]
    }
   ],
   "source": [
    "#Function can return boolean\n",
    "def myFunction() :\n",
    "  return True\n",
    "\n",
    "print(myFunction())"
   ]
  },
  {
   "cell_type": "markdown",
   "id": "9cb7d574",
   "metadata": {},
   "source": [
    "### Frozenset"
   ]
  },
  {
   "cell_type": "code",
   "execution_count": 64,
   "id": "9f9ce3cc",
   "metadata": {},
   "outputs": [
    {
     "name": "stdout",
     "output_type": "stream",
     "text": [
      "['apple', 'banana', 'grapes', 'orange']\n",
      "['apple', 'kiwy', 'grapes', 'orange']\n"
     ]
    },
    {
     "ename": "TypeError",
     "evalue": "'frozenset' object does not support item assignment",
     "output_type": "error",
     "traceback": [
      "\u001b[0;31m---------------------------------------------------------------------------\u001b[0m",
      "\u001b[0;31mTypeError\u001b[0m                                 Traceback (most recent call last)",
      "\u001b[0;32m<ipython-input-64-d6f61772c7b2>\u001b[0m in \u001b[0;36m<module>\u001b[0;34m\u001b[0m\n\u001b[1;32m      5\u001b[0m \u001b[0mprint\u001b[0m\u001b[0;34m(\u001b[0m\u001b[0mfruitlist\u001b[0m\u001b[0;34m)\u001b[0m\u001b[0;34m\u001b[0m\u001b[0;34m\u001b[0m\u001b[0m\n\u001b[1;32m      6\u001b[0m \u001b[0mmyfruitlist\u001b[0m\u001b[0;34m=\u001b[0m\u001b[0mfrozenset\u001b[0m\u001b[0;34m(\u001b[0m\u001b[0mfruitlist\u001b[0m\u001b[0;34m)\u001b[0m\u001b[0;34m\u001b[0m\u001b[0;34m\u001b[0m\u001b[0m\n\u001b[0;32m----> 7\u001b[0;31m \u001b[0mmyfruitlist\u001b[0m\u001b[0;34m[\u001b[0m\u001b[0;36m3\u001b[0m\u001b[0;34m]\u001b[0m\u001b[0;34m=\u001b[0m\u001b[0;34m\"coconuts\"\u001b[0m\u001b[0;34m\u001b[0m\u001b[0;34m\u001b[0m\u001b[0m\n\u001b[0m",
      "\u001b[0;31mTypeError\u001b[0m: 'frozenset' object does not support item assignment"
     ]
    }
   ],
   "source": [
    "### frozonset will make object unchangeable\n",
    "fruitlist=[\"apple\",\"banana\",\"grapes\",\"orange\"]\n",
    "print(fruitlist)\n",
    "fruitlist[1]=\"kiwy\"\n",
    "print(fruitlist)\n",
    "myfruitlist=frozenset(fruitlist)\n",
    "myfruitlist[3]=\"coconuts\""
   ]
  },
  {
   "cell_type": "markdown",
   "id": "42522994",
   "metadata": {},
   "source": [
    "### Bytes"
   ]
  },
  {
   "cell_type": "code",
   "execution_count": 65,
   "id": "8768502a",
   "metadata": {},
   "outputs": [
    {
     "name": "stdout",
     "output_type": "stream",
     "text": [
      "b'\\xff\\xfep\\x00y\\x00t\\x00h\\x00o\\x00n\\x00 \\x00i\\x00s\\x00 \\x00i\\x00n\\x00t\\x00e\\x00r\\x00e\\x00s\\x00t\\x00i\\x00n\\x00g\\x00'\n"
     ]
    }
   ],
   "source": [
    "str=\"python is interesting\"\n",
    "arr=bytes(str,'utf-16')\n",
    "print(arr)"
   ]
  },
  {
   "cell_type": "code",
   "execution_count": 66,
   "id": "027b150a",
   "metadata": {},
   "outputs": [
    {
     "name": "stdout",
     "output_type": "stream",
     "text": [
      "b'\\x00\\x00\\x00\\x00\\x00'\n"
     ]
    }
   ],
   "source": [
    "size = 5\n",
    "arr = bytes(size)\n",
    "print(arr)\n"
   ]
  },
  {
   "cell_type": "markdown",
   "id": "8b7678b1",
   "metadata": {},
   "source": [
    "### Byte array"
   ]
  },
  {
   "cell_type": "code",
   "execution_count": 67,
   "id": "7e5ec88e",
   "metadata": {},
   "outputs": [
    {
     "name": "stdout",
     "output_type": "stream",
     "text": [
      "bytearray(b'\\x00\\x00\\x00')\n",
      "bytearray(b'\\x006\\x00')\n"
     ]
    }
   ],
   "source": [
    "size = 3\n",
    "# will create an array of given size and initialize with null bytes\n",
    "array1 = bytearray(size)\n",
    "print(array1)\n",
    "array1[1]=54\n",
    "print(array1)"
   ]
  },
  {
   "cell_type": "markdown",
   "id": "0b7ddb1b",
   "metadata": {},
   "source": [
    "### Memory view"
   ]
  },
  {
   "cell_type": "code",
   "execution_count": 69,
   "id": "ff319ba6",
   "metadata": {},
   "outputs": [
    {
     "name": "stdout",
     "output_type": "stream",
     "text": [
      "Before update: bytearray(b'demo')\n",
      "After update: bytearray(b'deTo')\n"
     ]
    }
   ],
   "source": [
    "#MemoryView-allow direct r&w access to object’s byte-oriented data\n",
    "str=\"demo\"\n",
    "byte_array = bytearray(str, 'utf-8')\n",
    "print('Before update:', byte_array)\n",
    "\n",
    "mem_view = memoryview(byte_array)\n",
    "# update 2nd index of mem_view to J\n",
    "mem_view[2]= 84\n",
    "print('After update:', byte_array)"
   ]
  },
  {
   "cell_type": "markdown",
   "id": "4f7ffd8b",
   "metadata": {},
   "source": [
    "### Operators"
   ]
  },
  {
   "cell_type": "markdown",
   "id": "6ee70a2b",
   "metadata": {},
   "source": [
    "Operators are used to perform operations on variables and values\n",
    "\n",
    "Python divides the operators in the following groups:\n",
    "\n",
    "     1)Arithmetic operators\n",
    "\n",
    "     2)Assignment operators\n",
    "    \n",
    "     3)Comparison operators\n",
    "\n",
    "     4)Logical operators\n",
    "    \n",
    "     5)Identity operators\n",
    "\n",
    "     6)Membership operators\n",
    "    \n",
    "     7)Bitwise operators\n"
   ]
  },
  {
   "cell_type": "markdown",
   "id": "965c19f3",
   "metadata": {},
   "source": [
    "### Arithemetic Operators"
   ]
  },
  {
   "cell_type": "code",
   "execution_count": 72,
   "id": "990b522c",
   "metadata": {},
   "outputs": [
    {
     "name": "stdout",
     "output_type": "stream",
     "text": [
      "Enter your name:Divya\n",
      "Welcome Divya We are learning arrithmetic operators..\n",
      "Enter Number1:4\n",
      "Enter Number2:5\n",
      "Addition is: 9\n",
      "Subtraction is: -1\n",
      "Multiplication is: 20\n",
      "Division is: 0.8\n",
      "Remainder is: 4\n",
      "Exponentiation is: 1024\n",
      "Floor Division is: 0\n"
     ]
    }
   ],
   "source": [
    "name=input(\"Enter your name:\")\n",
    "print(\"Welcome \"+name+\" We are learning arrithmetic operators..\")\n",
    "num1=int(input(\"Enter Number1:\"))\n",
    "num2=int(input(\"Enter Number2:\"))\n",
    "print(\"Addition is:\",num1+num2)\n",
    "print(\"Subtraction is:\",num1-num2)\n",
    "print(\"Multiplication is:\",num1*num2)\n",
    "print(\"Division is:\",num1/num2)\n",
    "print(\"Remainder is:\",num1%num2)\n",
    "print(\"Exponentiation is:\",num1**num2)\n",
    "print(\"Floor Division is:\",num1//num2)"
   ]
  },
  {
   "cell_type": "markdown",
   "id": "264d4ee8",
   "metadata": {},
   "source": [
    "### Assignment operators"
   ]
  },
  {
   "cell_type": "code",
   "execution_count": 73,
   "id": "76784478",
   "metadata": {},
   "outputs": [
    {
     "name": "stdout",
     "output_type": "stream",
     "text": [
      "10\n",
      "15\n",
      "8\n",
      "32\n",
      "10.666666666666666\n",
      "2.666666666666666\n",
      "0.0\n",
      "0.0\n"
     ]
    }
   ],
   "source": [
    "# python have 13 Assignment Operators\n",
    "a=10\n",
    "print(a)\n",
    "a+=5  # a=a+5\n",
    "print(a)\n",
    "a-=7  # a=a-5\n",
    "print(a)\n",
    "a*=4  # a=a*5\n",
    "print(a)\n",
    "a/=3  # a=a/5\n",
    "print(a)\n",
    "a%=4   # a=a%5\n",
    "print(a)\n",
    "a//=3   # a=a//5\n",
    "print(a)\n",
    "a**=5   # a=a**5\n",
    "print(a)"
   ]
  },
  {
   "cell_type": "code",
   "execution_count": 74,
   "id": "21ca67e8",
   "metadata": {},
   "outputs": [
    {
     "name": "stdout",
     "output_type": "stream",
     "text": [
      "2\n",
      "2\n",
      "6\n",
      "3\n",
      "1\n",
      "32\n"
     ]
    }
   ],
   "source": [
    "# & - Bitwise and, | -bitwise OR, ^ - bitwise XOR, \n",
    "a=2\n",
    "print(a)\n",
    "a&=3  # a=a&3, a=2&3, a=010 & 011, a=010, a=2\n",
    "print(a)\n",
    "a|=4  # a=a|4, a=2|4, a=010 | 100, a=110, a=6\n",
    "print(a)\n",
    "a^=5  # a=a^5, a=6^5, a=110 ^ 101, a=011, a=3\n",
    "print(a)\n",
    "\n",
    "# this is right shift -> to make number half\n",
    "a>>=1  # a=a>>1, a=3>>1, a=001, a=1\n",
    "print(a)\n",
    "\n",
    "# this is left shift -> to double the number\n",
    "a<<=5\n",
    "print(a)"
   ]
  },
  {
   "cell_type": "code",
   "execution_count": 77,
   "id": "5b94b2b1",
   "metadata": {},
   "outputs": [
    {
     "data": {
      "text/plain": [
       "'\\n>> - Right shift -halfs the number\\n<< - Left Shift - double the number\\n\\n'"
      ]
     },
     "execution_count": 77,
     "metadata": {},
     "output_type": "execute_result"
    }
   ],
   "source": [
    "\"\"\"\n",
    ">> - Right shift -halfs the number\n",
    "<< - Left Shift - double the number\n",
    "\n",
    "\"\"\""
   ]
  },
  {
   "cell_type": "markdown",
   "id": "ae797173",
   "metadata": {},
   "source": [
    "### Comparison Operators\n",
    "\n",
    "\n",
    "We have 6 comparision operators\n",
    "\n",
    "    1.Equal to (==)\n",
    "    \n",
    "    2.Not Equal to (!=)\n",
    "    \n",
    "    3.Greater Than (>)\n",
    "    \n",
    "    4.Less than (<)\n",
    "    \n",
    "    5.Greator than equal to (>=)\n",
    "    \n",
    "    6.Less than equal to (<=)\n",
    "\n"
   ]
  },
  {
   "cell_type": "code",
   "execution_count": 79,
   "id": "c32061fb",
   "metadata": {},
   "outputs": [
    {
     "name": "stdout",
     "output_type": "stream",
     "text": [
      "False\n",
      "True\n",
      "False\n",
      "True\n",
      "False\n",
      "True\n"
     ]
    }
   ],
   "source": [
    "num1=23\n",
    "num2=34\n",
    "print(num1==num2);print(num1!=num2)\n",
    "print(num1>num2);print(num1<num2)\n",
    "print(num1>=num2);print(num1<=num2)"
   ]
  },
  {
   "cell_type": "markdown",
   "id": "0daa8b1c",
   "metadata": {},
   "source": [
    "\n",
    "### Logical Operators\n",
    "\n",
    "We have 3 logical operators\n",
    "\n",
    "    and\n",
    "    or\n",
    "    not\n",
    "\n"
   ]
  },
  {
   "cell_type": "code",
   "execution_count": 80,
   "id": "3f86bc80",
   "metadata": {},
   "outputs": [
    {
     "name": "stdout",
     "output_type": "stream",
     "text": [
      " First Class\n"
     ]
    }
   ],
   "source": [
    "# Logical and - Returns True if both statements are true\n",
    "marks=65\n",
    "if marks>60 and marks < 75:\n",
    "    print(\" First Class\")"
   ]
  },
  {
   "cell_type": "code",
   "execution_count": 81,
   "id": "04793d19",
   "metadata": {},
   "outputs": [
    {
     "name": "stdout",
     "output_type": "stream",
     "text": [
      " Not Distinction\n"
     ]
    }
   ],
   "source": [
    "# Logical or - Returns True if one of the statements is true\n",
    "marks=65\n",
    "if marks<60 or marks < 75:\n",
    "    print(\" Not Distinction\")"
   ]
  },
  {
   "cell_type": "code",
   "execution_count": 82,
   "id": "01b4c405",
   "metadata": {},
   "outputs": [
    {
     "name": "stdout",
     "output_type": "stream",
     "text": [
      "False\n"
     ]
    }
   ],
   "source": [
    "# Logical not - Reverse the result, returns False if the result is true\n",
    "marks=65\n",
    "print(not(marks>60 and marks < 75))"
   ]
  },
  {
   "cell_type": "markdown",
   "id": "66f2cbcc",
   "metadata": {},
   "source": [
    "\n",
    "### Identity Operators\n",
    "\n",
    "we have 2 Identity operators\n",
    "\n",
    "    1.is - Returns True if both variables are the same object\n",
    "    2.is not - Returns True if both variables are not the same object\n",
    "\n"
   ]
  },
  {
   "cell_type": "code",
   "execution_count": 83,
   "id": "41a8fbd1",
   "metadata": {},
   "outputs": [
    {
     "name": "stdout",
     "output_type": "stream",
     "text": [
      "True\n",
      "False\n",
      "False\n",
      "True\n"
     ]
    }
   ],
   "source": [
    "num1=45\n",
    "num2=45\n",
    "print(num1 is num2)\n",
    "print(num1 is not num2)\n",
    "num1=45\n",
    "num2=65\n",
    "print(num1 is num2)\n",
    "print(num1 is not num2)"
   ]
  },
  {
   "cell_type": "markdown",
   "id": "b661e7c9",
   "metadata": {},
   "source": [
    "\n",
    "### Membership Operators\n",
    "\n",
    "    #Membership Operators used to test if a sequence is presented in an object\n",
    "    1.in - Returns True if a sequence with the specified value is present in the object\n",
    "    2.not in - Returns True if a sequence with the specified value is not present in the object"
   ]
  },
  {
   "cell_type": "code",
   "execution_count": 85,
   "id": "1e554dcd",
   "metadata": {},
   "outputs": [
    {
     "name": "stdout",
     "output_type": "stream",
     "text": [
      "False\n",
      "True\n",
      "False\n",
      "True\n"
     ]
    }
   ],
   "source": [
    "# lets consider we have a set and check elements are in set or not\n",
    "set1={23,4,66,7,12,99}\n",
    "print(234 in set1)\n",
    "print(7 in set1)\n",
    "print(66 not in set1)\n",
    "print(77 not in set1)"
   ]
  },
  {
   "cell_type": "code",
   "execution_count": 86,
   "id": "332d2d7c",
   "metadata": {},
   "outputs": [
    {
     "name": "stdout",
     "output_type": "stream",
     "text": [
      "True\n",
      "False\n",
      "False\n",
      "True\n"
     ]
    }
   ],
   "source": [
    "# lets consider we have a list and check elements are in set or not\n",
    "list1=[\"apple\",\"grapes\",\"kiwy\"]\n",
    "print(\"kiwy\" in list1)\n",
    "print(\"orange\" in list1)\n",
    "print(\"kiwy\" not in list1)\n",
    "print(\"orange\" not in list1)"
   ]
  },
  {
   "cell_type": "code",
   "execution_count": 87,
   "id": "1ad0e38c",
   "metadata": {},
   "outputs": [
    {
     "name": "stdout",
     "output_type": "stream",
     "text": [
      "False\n",
      "True\n"
     ]
    }
   ],
   "source": [
    "# lets consider we have a Tuple&check elements are in tuple or not\n",
    "tuple1=(23,4,66,7,12,99)\n",
    "print(234 in tuple1)\n",
    "print(999 not in tuple1)"
   ]
  },
  {
   "cell_type": "markdown",
   "id": "0319f681",
   "metadata": {},
   "source": [
    "\n",
    "### Bitwise Operators\n",
    "\n",
    "We have 6 bitwise operators\n",
    "\n",
    "    1.AND (&) - Sets each bit to 1 if both bits are 1\n",
    "    2.OR (|) - Sets each bit to 1 if one of two bits is 1\n",
    "    3.XOR (^) - Sets each bit to 1 if only one of two bits is 1\n",
    "    4.NOT (~) - Inverts all the bits\n",
    "    5.Left Shif (<<) - Shift left by pushing zeros in from the right and let the leftmost bits fall off\n",
    "    6.Right Shift (>>) - Shift right by pushing copies of the leftmost bit in from the left, and let the rightmost bits fall off\n",
    "\n"
   ]
  }
 ],
 "metadata": {
  "kernelspec": {
   "display_name": "Python 3",
   "language": "python",
   "name": "python3"
  },
  "language_info": {
   "codemirror_mode": {
    "name": "ipython",
    "version": 3
   },
   "file_extension": ".py",
   "mimetype": "text/x-python",
   "name": "python",
   "nbconvert_exporter": "python",
   "pygments_lexer": "ipython3",
   "version": "3.8.8"
  }
 },
 "nbformat": 4,
 "nbformat_minor": 5
}
