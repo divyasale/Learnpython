{
 "cells": [
  {
   "cell_type": "markdown",
   "id": "1df22e2a",
   "metadata": {},
   "source": [
    "### Functions"
   ]
  },
  {
   "cell_type": "markdown",
   "id": "be678457",
   "metadata": {},
   "source": [
    "A function is a block of code which only runs when it is called.\n",
    "\n",
    "You can pass data, known as parameters, into a function.A function can return data as a result.\n",
    "\n",
    "Function is set of statements written in specific order to complete a specific task\n",
    "\n",
    "def keyword is used to create / define function\n",
    "\n",
    "if we write all code together, it is going to be complex, it will be difficult to understand, read and modify the code. Function is basically good for oraginizing the code"
   ]
  },
  {
   "cell_type": "code",
   "execution_count": null,
   "id": "d0c38cde",
   "metadata": {},
   "outputs": [],
   "source": [
    "'''\n",
    "# Syntax for defining function is \n",
    "\n",
    "def function_name():\n",
    "    function_body\n",
    "    return statement # its optional\n",
    "\n",
    "# how to call function\n",
    "\n",
    "function_name()  # function call without parameter\n",
    "function_name(parameter1,parameter2)  # Function call with 2 args\n",
    "'''\n"
   ]
  },
  {
   "cell_type": "code",
   "execution_count": 2,
   "id": "d0fa6c70",
   "metadata": {},
   "outputs": [],
   "source": [
    "# defining a function but it is not called\n",
    "def printHello():\n",
    "    print(\"Hello...\")"
   ]
  },
  {
   "cell_type": "code",
   "execution_count": 3,
   "id": "14070314",
   "metadata": {},
   "outputs": [
    {
     "name": "stdout",
     "output_type": "stream",
     "text": [
      "Hello...\n"
     ]
    }
   ],
   "source": [
    "# defining a function but calling it\n",
    "def printHello():   # defination\n",
    "    print(\"Hello...\")\n",
    "\n",
    "printHello()       # calling from bottom is allowed"
   ]
  },
  {
   "cell_type": "code",
   "execution_count": 4,
   "id": "d885a547",
   "metadata": {},
   "outputs": [
    {
     "name": "stdout",
     "output_type": "stream",
     "text": [
      "this statement is above of function calling\n",
      "Hello...\n",
      "this statement is bellow of function calling\n"
     ]
    }
   ],
   "source": [
    "# defining a function but calling it\n",
    "def printHello():   # defination\n",
    "    print(\"Hello...\")\n",
    "print(\"this statement is above of function calling\")\n",
    "printHello()       # calling from bottom is allowed\n",
    "print(\"this statement is bellow of function calling\")"
   ]
  },
  {
   "cell_type": "code",
   "execution_count": 11,
   "id": "04c9795d",
   "metadata": {},
   "outputs": [
    {
     "name": "stdout",
     "output_type": "stream",
     "text": [
      "Divya !!! Welcome in world of python\n",
      "Pratibha !!! Welcome in world of python\n",
      "prerana !!! Welcome in world of python\n",
      "Akanksha !!! Welcome in world of python\n"
     ]
    }
   ],
   "source": [
    "def My_Func(name):\n",
    "    print(name,\"!!!\",\"Welcome in world of python\")\n",
    "My_Func(\"Divya\")\n",
    "My_Func(\"Pratibha\")\n",
    "My_Func(\"prerana\")\n",
    "My_Func(\"Akanksha\")"
   ]
  },
  {
   "cell_type": "code",
   "execution_count": 12,
   "id": "102d557f",
   "metadata": {},
   "outputs": [
    {
     "name": "stdout",
     "output_type": "stream",
     "text": [
      "Enter First No:80\n",
      "Enter Second No:24\n",
      "Addition is =  104\n",
      "Subtraction is : 56\n",
      "multiplicaiton is : 1920\n",
      "Division is =  3.3333333333333335\n",
      "remainder is : 8\n",
      "exp is : 4722366482869645213696000000000000000000000000  and floor div is 3\n"
     ]
    }
   ],
   "source": [
    "# write a program using function for arrithemetic operations\n",
    "def cal_add(n1,n2):        # defining fuction for 2 parameters\n",
    "    n3=n1+n2\n",
    "    print(\"Addition is = \",n3)\n",
    "\n",
    "def cal_sub(num1,num2):\n",
    "    return num1-num2       #returning single no to calling function\n",
    "\n",
    "def cal_mul(a,b):\n",
    "    print(\"multiplicaiton is :\", a*b)\n",
    "\n",
    "def cal_div(n1,n2):\n",
    "    n3=n1/n2\n",
    "    print(\"Division is = \",n3)\n",
    "\n",
    "def cal_mod(num1,num2):\n",
    "    return num1%num2\n",
    "\n",
    "def cal_exp_fd(n1,n2):\n",
    "    n3=n1**n2\n",
    "    n4=n1//n2\n",
    "    return n3,n4            # return multiple values\n",
    "\n",
    "num1=int(input(\"Enter First No:\"))\n",
    "num2=int(input(\"Enter Second No:\"))\n",
    "cal_add(num1,num2)\n",
    "sub=cal_sub(num1,num2)\n",
    "print(\"Subtraction is :\",sub)\n",
    "\n",
    "cal_mul(num1,num2)\n",
    "cal_div(num1,num2)\n",
    "mod=cal_mod(num1,num2)\n",
    "print(\"remainder is :\",mod)\n",
    "\n",
    "exp,fd=cal_exp_fd(num1,num2)\n",
    "print(\"exp is :\",exp,\" and floor div is\",fd)"
   ]
  },
  {
   "cell_type": "markdown",
   "id": "83360934",
   "metadata": {},
   "source": [
    "### Variable number of arguments"
   ]
  },
  {
   "cell_type": "code",
   "execution_count": 13,
   "id": "61c07cc3",
   "metadata": {},
   "outputs": [
    {
     "name": "stdout",
     "output_type": "stream",
     "text": [
      "('kavya', 'kayra', 'divya')\n",
      "('kavya',)\n",
      "('kavya', 'kayra')\n",
      "()\n"
     ]
    }
   ],
   "source": [
    "def my_function(*kids):\n",
    "    print(kids)\n",
    "my_function(\"kavya\",\"kayra\",\"divya\")\n",
    "my_function(\"kavya\")\n",
    "my_function(\"kavya\",\"kayra\")\n",
    "my_function()"
   ]
  },
  {
   "cell_type": "code",
   "execution_count": 15,
   "id": "349acc59",
   "metadata": {},
   "outputs": [],
   "source": [
    "# In python documentation \n",
    "# argumets is refered -> args\n",
    "# arbitary Arguments -> *args\n",
    "# keyword arguments -> kwargs"
   ]
  },
  {
   "cell_type": "markdown",
   "id": "2580d916",
   "metadata": {},
   "source": [
    "### Keyword Arguments"
   ]
  },
  {
   "cell_type": "markdown",
   "id": "81fd6af3",
   "metadata": {},
   "source": [
    "arguments are passed using key-value pair"
   ]
  },
  {
   "cell_type": "code",
   "execution_count": 21,
   "id": "5628fdd2",
   "metadata": {},
   "outputs": [
    {
     "name": "stdout",
     "output_type": "stream",
     "text": [
      "Maths 95\n"
     ]
    }
   ],
   "source": [
    "def my_function(Subject,Marks):\n",
    "    print(Subject,Marks)\n",
    "\n",
    "my_function(Subject=\"Maths\",Marks=95)  # fuction calling"
   ]
  },
  {
   "cell_type": "markdown",
   "id": "9206844a",
   "metadata": {},
   "source": [
    "##### Arbitary Keyword Arguments\n",
    "If you do not know how many keyword arguments that will be passed into your function, add two asterisk: ** before the parameter name in the function definition."
   ]
  },
  {
   "cell_type": "code",
   "execution_count": 23,
   "id": "281fde6d",
   "metadata": {},
   "outputs": [
    {
     "name": "stdout",
     "output_type": "stream",
     "text": [
      "{'Subject_1': 'Maths', 'Subject_2': 'Physics'}\n",
      "<class 'dict'>\n",
      "{'Subject_1': 'Maths'}\n",
      "<class 'dict'>\n",
      "{'Subject_1': 'Biology', 'Subject_2': 'Chemistry', 'Subject_3': 'English'}\n",
      "<class 'dict'>\n"
     ]
    }
   ],
   "source": [
    "def My_Func(**Subject):\n",
    "    print(Subject)\n",
    "    print(type(Subject))\n",
    "My_Func(Subject_1=\"Maths\",Subject_2=\"Physics\")\n",
    "My_Func(Subject_1=\"Maths\")\n",
    "My_Func(Subject_1=\"Biology\",Subject_2=\"Chemistry\",Subject_3=\"English\")"
   ]
  },
  {
   "cell_type": "markdown",
   "id": "89ba712f",
   "metadata": {},
   "source": [
    "##### default parameter"
   ]
  },
  {
   "cell_type": "code",
   "execution_count": 24,
   "id": "31419ffb",
   "metadata": {},
   "outputs": [
    {
     "name": "stdout",
     "output_type": "stream",
     "text": [
      "I am from  Sweden\n",
      "I am from  Canada\n",
      "I am from  India\n",
      "I am from  Netherland\n",
      "I am from  India\n"
     ]
    }
   ],
   "source": [
    "def my_country(country=\"India\"):\n",
    "    print(\"I am from \",country)\n",
    "my_country(\"Sweden\")\n",
    "my_country(\"Canada\")\n",
    "my_country()\n",
    "my_country(\"Netherland\")\n",
    "my_country(\"India\")"
   ]
  },
  {
   "cell_type": "code",
   "execution_count": null,
   "id": "e2ada008",
   "metadata": {},
   "outputs": [],
   "source": [
    "##### Passing List,tuple,set or any other object as parameter\n",
    "def my_function(food):\n",
    "    print(food)\n",
    "\n",
    "fruit_list=[\"apple\",\"banana\",\"grapes\",\"orange\"]\n",
    "fruit_tuple=(\"apple\",\"banana\",\"grapes\",\"orange\")\n",
    "fruit_set={\"apple\",\"banana\",\"grapes\",\"orange\"}\n",
    "my_function(fruit_list)\n",
    "my_function(fruit_tuple)\n",
    "my_function(fruit_set)"
   ]
  },
  {
   "cell_type": "markdown",
   "id": "a84f4d62",
   "metadata": {},
   "source": [
    "##### Pass Keyword in function"
   ]
  },
  {
   "cell_type": "code",
   "execution_count": null,
   "id": "7175246b",
   "metadata": {},
   "outputs": [],
   "source": [
    "# function with pass keyword is doing nothing\n",
    "def lazy_function():\n",
    "    pass\n",
    "lazy_function()"
   ]
  },
  {
   "cell_type": "markdown",
   "id": "7b63a6c5",
   "metadata": {},
   "source": [
    "##### Recursion"
   ]
  },
  {
   "cell_type": "markdown",
   "id": "d3b5b10a",
   "metadata": {},
   "source": [
    "Recursion is nothing but function call itself"
   ]
  },
  {
   "cell_type": "code",
   "execution_count": 25,
   "id": "5d755eab",
   "metadata": {},
   "outputs": [
    {
     "name": "stdout",
     "output_type": "stream",
     "text": [
      "Enter num to find factorial:50\n",
      "factorial of  50 is  30414093201713378043612608166064768844377641568960512000000000000\n"
     ]
    }
   ],
   "source": [
    "# write a python program using recursion to find factorial\n",
    "def cal_fact(n):\n",
    "    if n==1:\n",
    "        return 1\n",
    "    else:\n",
    "        return n*cal_fact(n-1)\n",
    "\n",
    "num=int(input(\"Enter num to find factorial:\"))\n",
    "result=cal_fact(num)\n",
    "print(\"factorial of \",num,\"is \",result)"
   ]
  },
  {
   "cell_type": "markdown",
   "id": "acdaaf7a",
   "metadata": {},
   "source": [
    "##### Call by value and call by reference"
   ]
  },
  {
   "cell_type": "code",
   "execution_count": 26,
   "id": "c4e85bb1",
   "metadata": {},
   "outputs": [],
   "source": [
    "# some time python is working based on call by value\n",
    "# and some time python is working on call by reference\n",
    "# call by value - integers, strings, tuples etc"
   ]
  },
  {
   "cell_type": "code",
   "execution_count": 27,
   "id": "88f599a5",
   "metadata": {},
   "outputs": [
    {
     "name": "stdout",
     "output_type": "stream",
     "text": [
      "5\n",
      "Address of num: 94141775535552\n",
      "square is  25 address on n is 94141775536192\n"
     ]
    }
   ],
   "source": [
    "def cal_sq(n):\n",
    "    n=n*n\n",
    "    print(\"square is \",n,\"address on n is\",id(n))\n",
    "num=5\n",
    "print(num)\n",
    "print(\"Address of num:\",id(num))\n",
    "cal_sq(num)\n",
    "# as n and num is having different address space, it means\n",
    "# they are not sharing same memory so value is passed\n",
    "# it is call by value"
   ]
  },
  {
   "cell_type": "code",
   "execution_count": 28,
   "id": "fc7d8a23",
   "metadata": {},
   "outputs": [
    {
     "name": "stdout",
     "output_type": "stream",
     "text": [
      "List1 before calling:  [1, 2, 3, 4] address is: 139645647368512\n",
      "List l:  [1, 2, 3, 4] address is: 94141775535424\n",
      "List1 after calling:  [1, 2, 3, 4] address is: 139645647368512\n"
     ]
    }
   ],
   "source": [
    "# call by reference\n",
    "def list_modify(l):\n",
    "    print(\"List l: \",l,\"address is:\",id(l[0]))\n",
    "\n",
    "list1=[1,2,3,4]\n",
    "print(\"List1 before calling: \",list1,\"address is:\",id(list1))\n",
    "list_modify(list1)\n",
    "print(\"List1 after calling: \",list1,\"address is:\",id(list1))"
   ]
  },
  {
   "cell_type": "markdown",
   "id": "907f8df0",
   "metadata": {},
   "source": [
    "##### Main Function"
   ]
  },
  {
   "cell_type": "code",
   "execution_count": 29,
   "id": "b9441203",
   "metadata": {},
   "outputs": [
    {
     "name": "stdout",
     "output_type": "stream",
     "text": [
      "Enter Number to find square:5\n",
      "Square is  25\n"
     ]
    }
   ],
   "source": [
    "# this is sample program to find square without using main function\n",
    "def cal_square(num):\n",
    "    return num*num;\n",
    "\n",
    "n=int(input(\"Enter Number to find square:\"))\n",
    "square=cal_square(n)\n",
    "print(\"Square is \", square)"
   ]
  },
  {
   "cell_type": "code",
   "execution_count": 30,
   "id": "a5ac87b6",
   "metadata": {},
   "outputs": [
    {
     "name": "stdout",
     "output_type": "stream",
     "text": [
      "Enter Number to find square:5\n",
      "Square is  25\n"
     ]
    }
   ],
   "source": [
    "# this is sample program to find square using main function\n",
    "def cal_square(num):\n",
    "    return num*num;\n",
    "\n",
    "def main():\n",
    "    n=int(input(\"Enter Number to find square:\"))\n",
    "    square=cal_square(n)\n",
    "    print(\"Square is \", square)\n",
    "\n",
    "if __name__=='__main__':\n",
    "    main()"
   ]
  },
  {
   "cell_type": "markdown",
   "id": "14bb1ba3",
   "metadata": {},
   "source": [
    "\n",
    "##### name is a global variable and if you want to execute your program from main function, you have set name=main"
   ]
  },
  {
   "cell_type": "code",
   "execution_count": 31,
   "id": "563ea37c",
   "metadata": {},
   "outputs": [
    {
     "name": "stdout",
     "output_type": "stream",
     "text": [
      "this is first statement written outside of main\n",
      "This statement is written in main..\n",
      "this is second statement written outside of main\n"
     ]
    }
   ],
   "source": [
    "#Creating main function\n",
    "def main():\n",
    "    print(\"This statement is written in main..\")\n",
    "\n",
    "print(\"this is first statement written outside of main\")   \n",
    "main()\n",
    "print(\"this is second statement written outside of main\")"
   ]
  },
  {
   "cell_type": "code",
   "execution_count": 36,
   "id": "1aa33764",
   "metadata": {},
   "outputs": [
    {
     "name": "stdout",
     "output_type": "stream",
     "text": [
      "Enter any number : 10\n",
      "The given number is even\n"
     ]
    }
   ],
   "source": [
    "#Find that given number is odd or even by using main() function\n",
    "def odd_even(n):\n",
    "    return n\n",
    "def main():\n",
    "    num=int(input(\"Enter any number : \"))\n",
    "    if(num%2==0):\n",
    "        print(\"The given number is even\")\n",
    "    else:\n",
    "        print(\"The given number is odd\")\n",
    "if __name__=='__main__':\n",
    "    main()"
   ]
  },
  {
   "cell_type": "markdown",
   "id": "ae5e8ebe",
   "metadata": {},
   "source": [
    "##### Sleep submodule from time module"
   ]
  },
  {
   "cell_type": "code",
   "execution_count": 37,
   "id": "656f1a2f",
   "metadata": {},
   "outputs": [],
   "source": [
    "from time import sleep"
   ]
  },
  {
   "cell_type": "code",
   "execution_count": 38,
   "id": "a402cbcf",
   "metadata": {},
   "outputs": [
    {
     "name": "stdout",
     "output_type": "stream",
     "text": [
      "Begin Data Processing...Please Wait\n",
      "Data processed.. Thanks\n"
     ]
    }
   ],
   "source": [
    "def main():\n",
    "    print(\"Begin Data Processing...Please Wait\")\n",
    "    sleep(10)     # this will pause next execution for specified seconds\n",
    "    print(\"Data processed.. Thanks\")\n",
    "\n",
    "if __name__=='__main__':\n",
    "    main()"
   ]
  },
  {
   "cell_type": "code",
   "execution_count": 39,
   "id": "11b59188",
   "metadata": {},
   "outputs": [
    {
     "name": "stdout",
     "output_type": "stream",
     "text": [
      "0 1 2 3 4 5 6 7 8 9 10 11 12 13 14 15 16 17 18 19 20 21 22 23 24 25 26 27 28 29 30 31 32 33 34 35 36 37 38 39 40 41 42 43 44 45 46 47 48 49 "
     ]
    }
   ],
   "source": [
    "#print 0 to 50 numbers with some pause\n",
    "def main():\n",
    "    for i in range(50):\n",
    "        sleep(1)\n",
    "        print(i,end=\" \")\n",
    "\n",
    "if __name__=='__main__':\n",
    "    main()"
   ]
  },
  {
   "cell_type": "code",
   "execution_count": 40,
   "id": "e33268d3",
   "metadata": {},
   "outputs": [
    {
     "data": {
      "text/plain": [
       "'__main__'"
      ]
     },
     "execution_count": 40,
     "metadata": {},
     "output_type": "execute_result"
    }
   ],
   "source": [
    "__name__"
   ]
  }
 ],
 "metadata": {
  "kernelspec": {
   "display_name": "Python 3",
   "language": "python",
   "name": "python3"
  },
  "language_info": {
   "codemirror_mode": {
    "name": "ipython",
    "version": 3
   },
   "file_extension": ".py",
   "mimetype": "text/x-python",
   "name": "python",
   "nbconvert_exporter": "python",
   "pygments_lexer": "ipython3",
   "version": "3.8.8"
  }
 },
 "nbformat": 4,
 "nbformat_minor": 5
}
