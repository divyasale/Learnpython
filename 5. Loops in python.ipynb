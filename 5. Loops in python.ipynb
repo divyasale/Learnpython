{
 "cells": [
  {
   "cell_type": "markdown",
   "id": "28f941d5",
   "metadata": {},
   "source": [
    "### Loops"
   ]
  },
  {
   "cell_type": "markdown",
   "id": "eb61e3e9",
   "metadata": {},
   "source": [
    "### For Loop"
   ]
  },
  {
   "cell_type": "code",
   "execution_count": 1,
   "id": "8d60b775",
   "metadata": {},
   "outputs": [
    {
     "name": "stdout",
     "output_type": "stream",
     "text": [
      "apple\n",
      "banana\n",
      "cherry\n"
     ]
    }
   ],
   "source": [
    "#A for loop is used for iterating over a sequence\n",
    "fruits = [\"apple\", \"banana\", \"cherry\"]\n",
    "for x in fruits:\n",
    "  print(x)"
   ]
  },
  {
   "cell_type": "code",
   "execution_count": 2,
   "id": "7c958b18",
   "metadata": {},
   "outputs": [
    {
     "name": "stdout",
     "output_type": "stream",
     "text": [
      "N\n",
      "o\n",
      "t\n",
      "e\n",
      "b\n",
      "o\n",
      "o\n",
      "k\n"
     ]
    }
   ],
   "source": [
    "#Iterate string using loop\n",
    "for x in \"Notebook\":\n",
    "  print(x)"
   ]
  },
  {
   "cell_type": "markdown",
   "id": "e786ccf8",
   "metadata": {},
   "source": [
    "### break keyword"
   ]
  },
  {
   "cell_type": "code",
   "execution_count": 9,
   "id": "33589d89",
   "metadata": {},
   "outputs": [
    {
     "name": "stdout",
     "output_type": "stream",
     "text": [
      "Book\n",
      "5\n",
      "Mango\n"
     ]
    }
   ],
   "source": [
    "#break keywoed stop the loop before it has looped through all the items\n",
    "# break is used to come out of the loop\n",
    "List=[\"Book\",5,\"Mango\",8.65,\"Orange\"]\n",
    "for x in List:\n",
    "    print(x)\n",
    "    if x==\"Mango\":\n",
    "        break"
   ]
  },
  {
   "cell_type": "code",
   "execution_count": 11,
   "id": "31355ff7",
   "metadata": {},
   "outputs": [
    {
     "name": "stdout",
     "output_type": "stream",
     "text": [
      "apple\n"
     ]
    }
   ],
   "source": [
    " fruits = [\"apple\", \"banana\", \"cherry\"]\n",
    "for x in fruits:\n",
    "  if x == \"banana\":\n",
    "    break      #break comes before print\n",
    "  print(x)"
   ]
  },
  {
   "cell_type": "markdown",
   "id": "8d5ea35c",
   "metadata": {},
   "source": [
    "### Continue Statement"
   ]
  },
  {
   "cell_type": "code",
   "execution_count": 12,
   "id": "021c40b9",
   "metadata": {},
   "outputs": [
    {
     "name": "stdout",
     "output_type": "stream",
     "text": [
      "Book\n",
      "5\n",
      "8.65\n",
      "Orange\n"
     ]
    }
   ],
   "source": [
    "#continue statement stop the current iteration of the loop, and continue with the next\n",
    "List=[\"Book\",5,\"Mango\",8.65,\"Orange\"]\n",
    "for x in List:\n",
    "    if x==\"Mango\":\n",
    "        continue\n",
    "    print(x)"
   ]
  },
  {
   "cell_type": "markdown",
   "id": "f6a04057",
   "metadata": {},
   "source": [
    "### pass keyword"
   ]
  },
  {
   "cell_type": "code",
   "execution_count": 14,
   "id": "538b8492",
   "metadata": {},
   "outputs": [],
   "source": [
    "# pass keyword is used to specify to do nothing\n",
    "# we can write pass in loop to specify loop has to do nothing\n",
    "for x in List:\n",
    "    pass"
   ]
  },
  {
   "cell_type": "markdown",
   "id": "640155d2",
   "metadata": {},
   "source": [
    "### Range function in for loop\n"
   ]
  },
  {
   "cell_type": "code",
   "execution_count": 17,
   "id": "79c0e952",
   "metadata": {},
   "outputs": [
    {
     "name": "stdout",
     "output_type": "stream",
     "text": [
      "Python\n",
      "Python\n",
      "Python\n",
      "Python\n",
      "Python\n",
      "Python\n",
      "Python\n",
      "Python\n",
      "Python\n",
      "Python\n"
     ]
    }
   ],
   "source": [
    "#To loop through a set of code a specified number of times\n",
    "#The range() function returns a sequence of numbers, starting from 0 by default, \n",
    "#and increments by 1 (by default), and ends at a specified number.\n",
    "for i in range(10):\n",
    "    print(\"Python\")"
   ]
  },
  {
   "cell_type": "code",
   "execution_count": 20,
   "id": "2b06c172",
   "metadata": {},
   "outputs": [
    {
     "name": "stdout",
     "output_type": "stream",
     "text": [
      "0 1 2 3 4 5 6 7 8 9 10 11 12 13 14 15 16 17 18 19 20 21 22 23 24 25 26 27 28 29 30 31 32 33 34 35 36 37 38 39 40 41 42 43 44 45 46 47 48 49 50 51 52 53 54 55 56 57 58 59 60 61 62 63 64 65 66 67 68 69 70 71 72 73 74 75 76 77 78 79 80 81 82 83 84 85 86 87 88 89 90 91 92 93 94 95 96 97 98 99 "
     ]
    }
   ],
   "source": [
    "#Print 1 to 100\n",
    "for i in range(100):\n",
    "    print(i, end=\" \")"
   ]
  },
  {
   "cell_type": "code",
   "execution_count": 21,
   "id": "2007307b",
   "metadata": {},
   "outputs": [
    {
     "name": "stdout",
     "output_type": "stream",
     "text": [
      "51 54 57 60 63 66 69 "
     ]
    }
   ],
   "source": [
    "#print 51 to 70 number in multiple of 3\n",
    "for i in range(51,71,3):\n",
    "    print(i, end=\" \")"
   ]
  },
  {
   "cell_type": "code",
   "execution_count": 22,
   "id": "3681d3a2",
   "metadata": {},
   "outputs": [
    {
     "name": "stdout",
     "output_type": "stream",
     "text": [
      "350 345 340 335 330 325 320 315 310 305 300 295 290 285 280 275 270 265 260 255 "
     ]
    }
   ],
   "source": [
    "#print 350 to 250 number in multiple of 5\n",
    "for i in range(350,250,-5):\n",
    "    print(i, end=\" \")\n"
   ]
  },
  {
   "cell_type": "code",
   "execution_count": 23,
   "id": "5c2a5bd3",
   "metadata": {},
   "outputs": [
    {
     "name": "stdout",
     "output_type": "stream",
     "text": [
      "701 703 705 707 709 711 713 715 717 719 721 723 725 727 729 731 733 735 737 739 741 743 745 747 749 751 753 755 757 759 761 763 765 767 769 771 773 775 777 779 781 783 785 787 789 791 793 795 797 799 "
     ]
    }
   ],
   "source": [
    "# print odd numbers from 700 to 800\n",
    "for i in range(701,800):\n",
    "    if i%2==1:\n",
    "        print(i, end=\" \")"
   ]
  },
  {
   "cell_type": "code",
   "execution_count": 24,
   "id": "d2c0141a",
   "metadata": {},
   "outputs": [
    {
     "name": "stdout",
     "output_type": "stream",
     "text": [
      "63 126 189 252 315 378 441 "
     ]
    }
   ],
   "source": [
    "# print numbers from 1 to 500 which are in multiple of 7 & 9 both\n",
    "for i in range(1,500):\n",
    "    if i%7==0 and i%9==0:\n",
    "        print(i, end=\" \")"
   ]
  },
  {
   "cell_type": "markdown",
   "id": "1287482f",
   "metadata": {},
   "source": [
    "### Nested for"
   ]
  },
  {
   "cell_type": "code",
   "execution_count": 28,
   "id": "22c6aa9a",
   "metadata": {},
   "outputs": [
    {
     "name": "stdout",
     "output_type": "stream",
     "text": [
      "red -> apple\n",
      "red -> banana\n",
      "red -> cherry\n",
      "\n",
      "big -> apple\n",
      "big -> banana\n",
      "big -> cherry\n",
      "\n",
      "tasty -> apple\n",
      "tasty -> banana\n",
      "tasty -> cherry\n",
      "\n"
     ]
    }
   ],
   "source": [
    "dec = [\"red\", \"big\", \"tasty\"]\n",
    "fruits = [\"apple\", \"banana\", \"cherry\"]\n",
    "\n",
    "for x in dec:\n",
    "    for y in fruits:\n",
    "        print(x,\"->\", y) \n",
    "    print( )"
   ]
  },
  {
   "cell_type": "code",
   "execution_count": 29,
   "id": "adf734d8",
   "metadata": {},
   "outputs": [
    {
     "name": "stdout",
     "output_type": "stream",
     "text": [
      "0\n",
      "1\n",
      "2\n",
      "3\n",
      "4\n",
      "5\n",
      "Finally finished!\n"
     ]
    }
   ],
   "source": [
    "### Else in for loop\n",
    "for x in range(6):\n",
    "    print(x)\n",
    "else:\n",
    "    print(\"Finally finished!\") "
   ]
  },
  {
   "cell_type": "markdown",
   "id": "ac41b641",
   "metadata": {},
   "source": [
    "### While loop"
   ]
  },
  {
   "cell_type": "code",
   "execution_count": null,
   "id": "1fcb69a1",
   "metadata": {},
   "outputs": [],
   "source": [
    "# syntax of while\n",
    "\n",
    "variable_initilization\n",
    "while condition:\n",
    "    body_of_while\n",
    "    increment / decrement"
   ]
  },
  {
   "cell_type": "code",
   "execution_count": 31,
   "id": "b190ae52",
   "metadata": {},
   "outputs": [
    {
     "name": "stdout",
     "output_type": "stream",
     "text": [
      "1 2 3 4 5 6 7 8 9 10 "
     ]
    }
   ],
   "source": [
    "# print 1 to 10 number\n",
    "i=1\n",
    "while i<=10:\n",
    "    print(i,end=\" \")\n",
    "    i+=1"
   ]
  },
  {
   "cell_type": "code",
   "execution_count": 37,
   "id": "97ae0855",
   "metadata": {},
   "outputs": [
    {
     "name": "stdout",
     "output_type": "stream",
     "text": [
      "21 22 23 24 26 27 28 29 31 32 33 34 36 37 38 39 41 42 43 44 46 47 48 49 51 52 53 54 56 57 58 59 61 62 63 64 66 67 68 69 71 72 73 74 76 77 78 79 81 82 83 84 86 87 88 89 91 92 93 94 96 97 98 99 \n",
      "\n",
      "\n",
      "list1 is: [21, 22, 23, 24, 26, 27, 28, 29, 31, 32, 33, 34, 36, 37, 38, 39, 41, 42, 43, 44, 46, 47, 48, 49, 51, 52, 53, 54, 56, 57, 58, 59, 61, 62, 63, 64, 66, 67, 68, 69, 71, 72, 73, 74, 76, 77, 78, 79, 81, 82, 83, 84, 86, 87, 88, 89, 91, 92, 93, 94, 96, 97, 98, 99]\n",
      "Total number in list are:  64\n"
     ]
    }
   ],
   "source": [
    "# print 20 to 100 which are not multiple of 5, add those numbers in list and \n",
    "# count the numbers\n",
    "\n",
    "i=20\n",
    "list1=[]\n",
    "while i<=100:\n",
    "    if i%5!=0:\n",
    "        print(i,end=\" \")\n",
    "        list1.append(i)\n",
    "    i=i+1\n",
    "print(\"\\n\\n\")    \n",
    "print(\"list1 is:\",list1)\n",
    "print(\"Total number in list are: \",len(list1))"
   ]
  },
  {
   "cell_type": "code",
   "execution_count": 38,
   "id": "ee29c9f0",
   "metadata": {},
   "outputs": [
    {
     "name": "stdout",
     "output_type": "stream",
     "text": [
      "21 22 23 24 25 26 28 29 30 31 32 33 34 35 36 38 39 40 41 42 43 44 45 46 48 49 50 51 52 53 54 55 56 57 58 59 60 61 62 63 64 65 66 67 68 69 70 71 72 73 74 75 76 77 78 79 80 81 82 83 84 85 86 87 88 89 90 91 92 93 94 95 96 97 98 99 100 "
     ]
    }
   ],
   "source": [
    "# how to use continue keyword\n",
    "i=20\n",
    "while i<100:\n",
    "    i=i+1\n",
    "    if ((i==27 or i==37) or i==47):\n",
    "        continue\n",
    "    print(i,end=\" \")"
   ]
  },
  {
   "cell_type": "code",
   "execution_count": 39,
   "id": "9c37cf7f",
   "metadata": {},
   "outputs": [
    {
     "name": "stdout",
     "output_type": "stream",
     "text": [
      "21 22 23 24 25 26 28 29 30 31 32 33 34 35 36 38 39 40 41 42 43 44 45 46 48 49 50 51 52 53 54 55 56 57 58 59 60 61 62 63 64 65 66 67 68 69 70 71 72 73 74 75 76 77 78 79 80 81 82 83 84 85 86 87 88 89 90 91 92 93 94 95 96 97 98 99 100 \n",
      "currently the value of i greater than 100\n"
     ]
    }
   ],
   "source": [
    "# how to use else in while loop\n",
    "i=20\n",
    "while i<100:\n",
    "    i=i+1\n",
    "    if ((i==27 or i==37) or i==47):\n",
    "        continue\n",
    "    print(i,end=\" \")\n",
    "else:\n",
    "    print(\"\\ncurrently the value of i greater than 100\")"
   ]
  }
 ],
 "metadata": {
  "kernelspec": {
   "display_name": "Python 3",
   "language": "python",
   "name": "python3"
  },
  "language_info": {
   "codemirror_mode": {
    "name": "ipython",
    "version": 3
   },
   "file_extension": ".py",
   "mimetype": "text/x-python",
   "name": "python",
   "nbconvert_exporter": "python",
   "pygments_lexer": "ipython3",
   "version": "3.8.8"
  }
 },
 "nbformat": 4,
 "nbformat_minor": 5
}
