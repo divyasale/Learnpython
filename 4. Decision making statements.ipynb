{
 "cells": [
  {
   "cell_type": "markdown",
   "id": "909c0bf6",
   "metadata": {},
   "source": [
    "### If statement"
   ]
  },
  {
   "cell_type": "code",
   "execution_count": 5,
   "id": "474ea3ef",
   "metadata": {},
   "outputs": [
    {
     "name": "stdout",
     "output_type": "stream",
     "text": [
      "Enter Your Age : 20\n",
      "You are eligible for voting\n",
      "Thanks for your information\n"
     ]
    }
   ],
   "source": [
    "age=int(input(\"Enter Your Age : \"))\n",
    "if(age>18):\n",
    "    print(\"You are eligible for voting\")\n",
    "print(\"Thanks for your information\")"
   ]
  },
  {
   "cell_type": "code",
   "execution_count": 7,
   "id": "9c52bb0e",
   "metadata": {},
   "outputs": [
    {
     "name": "stdout",
     "output_type": "stream",
     "text": [
      "Enter Your Age :15\n",
      "Thanks for your information\n"
     ]
    }
   ],
   "source": [
    "age=int(input(\"Enter Your Age :\"))\n",
    "if(age>18):\n",
    "    print(\"You are eligible for voting\")\n",
    "print(\"Thanks for your information\")"
   ]
  },
  {
   "cell_type": "markdown",
   "id": "dcaa0ec8",
   "metadata": {},
   "source": [
    "### if Else"
   ]
  },
  {
   "cell_type": "code",
   "execution_count": 10,
   "id": "69089665",
   "metadata": {},
   "outputs": [
    {
     "name": "stdout",
     "output_type": "stream",
     "text": [
      "Enter first element :92\n",
      "Enter second element :100\n",
      "Second Number is greater than first number\n"
     ]
    }
   ],
   "source": [
    "#Check greatest number\n",
    "a=int(input(\"Enter first element :\"))\n",
    "b=int(input(\"Enter second element :\"))\n",
    "if(a>b):\n",
    "    print(\"First number is greater than second number\")\n",
    "else:\n",
    "    print(\"Second Number is greater than first number\")"
   ]
  },
  {
   "cell_type": "code",
   "execution_count": 12,
   "id": "92157ad7",
   "metadata": {},
   "outputs": [
    {
     "name": "stdout",
     "output_type": "stream",
     "text": [
      "Enter any number9\n",
      "The given number is odd\n"
     ]
    }
   ],
   "source": [
    "#Check if number is even or odd\n",
    "num=int(input(\"Enter any number\"))\n",
    "if num%2==0:\n",
    "    print(\"The given number is even\")\n",
    "else:\n",
    "    print(\"The given number is odd\")"
   ]
  },
  {
   "cell_type": "markdown",
   "id": "89b1b9b9",
   "metadata": {},
   "source": [
    "### Nested if else"
   ]
  },
  {
   "cell_type": "code",
   "execution_count": 13,
   "id": "296fdba1",
   "metadata": {},
   "outputs": [
    {
     "name": "stdout",
     "output_type": "stream",
     "text": [
      "Please check the input score for 'Theory'.\n"
     ]
    }
   ],
   "source": [
    "# Nested if else is nothing but if else inside if else\n",
    "score_theory = 60\n",
    "score_practical = 20\n",
    "\n",
    "if(score_theory > 50):\n",
    "    print(\"Please check the input score for 'Theory'.\")\n",
    "else:\n",
    "    if(score_practical > 50):\n",
    "        print(\"Please check the input score for 'Practical'.\")  \n",
    "    else:\n",
    "        print(\"Score validated. Your total is: \",score_theory + score_practical)"
   ]
  },
  {
   "cell_type": "code",
   "execution_count": 15,
   "id": "fd38fc02",
   "metadata": {},
   "outputs": [
    {
     "name": "stdout",
     "output_type": "stream",
     "text": [
      "Enter the CIBIL:700\n",
      "Enter Salary:60000\n",
      "Enter Total Assets:50000\n",
      "loan granted\n"
     ]
    }
   ],
   "source": [
    "cibil=int(input(\"Enter the CIBIL:\"))\n",
    "salary=int(input(\"Enter Salary:\"))\n",
    "assets=int(input(\"Enter Total Assets:\"))\n",
    "\n",
    "if cibil>=700:\n",
    "    if salary>=50000:\n",
    "        print(\"loan granted\")\n",
    "    else:\n",
    "        print(\"Forwarding application to BM\")\n",
    "else:\n",
    "    if assets>=1000000:\n",
    "        print(\"Forwarding application to BM\")\n",
    "    else:\n",
    "        print(\"Loan Rejected\")"
   ]
  },
  {
   "cell_type": "markdown",
   "id": "7d283633",
   "metadata": {},
   "source": [
    "### if elif else Ladder"
   ]
  },
  {
   "cell_type": "code",
   "execution_count": 18,
   "id": "45efd1ed",
   "metadata": {},
   "outputs": [
    {
     "name": "stdout",
     "output_type": "stream",
     "text": [
      "Enter value of a : 60\n",
      "Enter value of b : 60\n",
      "a and b are equal\n"
     ]
    }
   ],
   "source": [
    "a = int(input(\"Enter value of a : \"))\n",
    "b = int(input(\"Enter value of b : \"))\n",
    "if b > a:\n",
    "  print(\"b is greater than a\")\n",
    "elif a == b:\n",
    "  print(\"a and b are equal\")\n",
    "else:\n",
    "  print(\"a is greater than b\")"
   ]
  },
  {
   "cell_type": "markdown",
   "id": "1fcbf672",
   "metadata": {},
   "source": [
    "if statements cannot be empty, but if you for some reason have an if statement with no content, put in the pass statement to avoid getting an error"
   ]
  },
  {
   "cell_type": "code",
   "execution_count": 19,
   "id": "a1bcd180",
   "metadata": {},
   "outputs": [],
   "source": [
    "a = 33\n",
    "b = 200\n",
    "\n",
    "if b > a:\n",
    "  pass"
   ]
  }
 ],
 "metadata": {
  "kernelspec": {
   "display_name": "Python 3",
   "language": "python",
   "name": "python3"
  },
  "language_info": {
   "codemirror_mode": {
    "name": "ipython",
    "version": 3
   },
   "file_extension": ".py",
   "mimetype": "text/x-python",
   "name": "python",
   "nbconvert_exporter": "python",
   "pygments_lexer": "ipython3",
   "version": "3.8.8"
  }
 },
 "nbformat": 4,
 "nbformat_minor": 5
}
