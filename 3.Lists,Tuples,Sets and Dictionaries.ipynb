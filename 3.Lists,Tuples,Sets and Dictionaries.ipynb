{
 "cells": [
  {
   "cell_type": "markdown",
   "id": "e5900b11",
   "metadata": {},
   "source": [
    "\n",
    "    1.List is a collection which is ordered and changeable. Allows duplicate members.\n",
    "    \n",
    "    2.Tuple is a collection which is ordered and unchangeable. Allows duplicate members.\n",
    "    \n",
    "    3.Set is a collection which is unordered, changeable, and unindexed. No duplicate members.\n",
    "    \n",
    "    4.Dictionary is a collection which is unordered and changeable. No duplicate members.\n"
   ]
  },
  {
   "cell_type": "markdown",
   "id": "7c17ceab",
   "metadata": {},
   "source": [
    "### List"
   ]
  },
  {
   "cell_type": "markdown",
   "id": "3303163e",
   "metadata": {},
   "source": [
    "list is ordered collection of dissimilar data elements\n",
    "\n",
    "list are indexed\n",
    "\n",
    "list are changeable i.e mutable\n",
    "\n",
    "list are ordered\n",
    "\n",
    "[ ] are used to create list"
   ]
  },
  {
   "cell_type": "code",
   "execution_count": 3,
   "id": "86ba884e",
   "metadata": {},
   "outputs": [],
   "source": [
    "list1 = [\"abc\", 34, True, 40, \"male\"]\n",
    "#PI        0     1    2    3    4       (Positive Index start from 0 left to right)\n",
    "#NI       -5    -4   -3   -2   -1       (Negative Index start from -1 right to left)"
   ]
  },
  {
   "cell_type": "code",
   "execution_count": 2,
   "id": "3b6c74f0",
   "metadata": {},
   "outputs": [
    {
     "name": "stdout",
     "output_type": "stream",
     "text": [
      "['abc', 34, True, 40, 'male']\n"
     ]
    }
   ],
   "source": [
    "print(list1)"
   ]
  },
  {
   "cell_type": "code",
   "execution_count": 4,
   "id": "467224af",
   "metadata": {},
   "outputs": [
    {
     "data": {
      "text/plain": [
       "list"
      ]
     },
     "execution_count": 4,
     "metadata": {},
     "output_type": "execute_result"
    }
   ],
   "source": [
    "type(list1)"
   ]
  },
  {
   "cell_type": "markdown",
   "id": "c1f38549",
   "metadata": {},
   "source": [
    "### Access Items"
   ]
  },
  {
   "cell_type": "code",
   "execution_count": 7,
   "id": "538707f8",
   "metadata": {},
   "outputs": [
    {
     "name": "stdout",
     "output_type": "stream",
     "text": [
      "40\n",
      "40\n"
     ]
    }
   ],
   "source": [
    "#Print 40\n",
    "print(list1[3])       #Positive Index\n",
    "print(list1[-2])      #Negative Index"
   ]
  },
  {
   "cell_type": "markdown",
   "id": "aa8785f3",
   "metadata": {},
   "source": [
    "### Slicing"
   ]
  },
  {
   "cell_type": "code",
   "execution_count": 10,
   "id": "425b4bd9",
   "metadata": {},
   "outputs": [
    {
     "name": "stdout",
     "output_type": "stream",
     "text": [
      "[True, 40, 'male']\n",
      "[True, 40, 'male']\n"
     ]
    }
   ],
   "source": [
    "#Return third, fourth and fifth item from list using PI and NI\n",
    "print(list1[2:])\n",
    "print(list1[-3:])"
   ]
  },
  {
   "cell_type": "code",
   "execution_count": 11,
   "id": "994e10db",
   "metadata": {},
   "outputs": [],
   "source": [
    "list2 = [\"apple\", \"banana\", \"cherry\", \"orange\", \"kiwi\", \"melon\", \"mango\"]"
   ]
  },
  {
   "cell_type": "code",
   "execution_count": 12,
   "id": "bfef8b49",
   "metadata": {},
   "outputs": [
    {
     "name": "stdout",
     "output_type": "stream",
     "text": [
      "['apple', 'banana', 'cherry', 'orange']\n"
     ]
    }
   ],
   "source": [
    "#Return item from beginning but not include kiwi\n",
    "print(list2[ :4])"
   ]
  },
  {
   "cell_type": "code",
   "execution_count": 13,
   "id": "c10d9ebc",
   "metadata": {},
   "outputs": [
    {
     "name": "stdout",
     "output_type": "stream",
     "text": [
      "['cherry', 'orange', 'kiwi', 'melon', 'mango']\n"
     ]
    }
   ],
   "source": [
    "#Return item from cherry to end\n",
    "print(list2[2: ])"
   ]
  },
  {
   "cell_type": "code",
   "execution_count": 14,
   "id": "34cac87b",
   "metadata": {},
   "outputs": [
    {
     "name": "stdout",
     "output_type": "stream",
     "text": [
      "['orange', 'kiwi', 'melon']\n"
     ]
    }
   ],
   "source": [
    "#Return items from orange but not include mango by nrgative indexing\n",
    "print(list2[-4:-1])"
   ]
  },
  {
   "cell_type": "code",
   "execution_count": 16,
   "id": "2071f1ab",
   "metadata": {},
   "outputs": [
    {
     "name": "stdout",
     "output_type": "stream",
     "text": [
      "['cherry', 'orange', 'kiwi']\n",
      "3\n"
     ]
    }
   ],
   "source": [
    "#Create another list which only contain cherry , orange and kiwi\n",
    "list3 = list2[2:5]\n",
    "print(list3)\n",
    "print(len(list3))"
   ]
  },
  {
   "cell_type": "code",
   "execution_count": 18,
   "id": "e3584aad",
   "metadata": {},
   "outputs": [
    {
     "name": "stdout",
     "output_type": "stream",
     "text": [
      "Mango is in list3\n"
     ]
    }
   ],
   "source": [
    "#Check if item exists\n",
    "if \"mango\" in list2:\n",
    "    print(\"Mango is in list3\")"
   ]
  },
  {
   "cell_type": "markdown",
   "id": "c6d518cf",
   "metadata": {},
   "source": [
    "### Change item Values"
   ]
  },
  {
   "cell_type": "code",
   "execution_count": 19,
   "id": "bdc79629",
   "metadata": {},
   "outputs": [
    {
     "data": {
      "text/plain": [
       "['apple', 'banana', 'cherry', 'orange', 'kiwi', 'melon', 'mango']"
      ]
     },
     "execution_count": 19,
     "metadata": {},
     "output_type": "execute_result"
    }
   ],
   "source": [
    "list2"
   ]
  },
  {
   "cell_type": "code",
   "execution_count": 20,
   "id": "20336264",
   "metadata": {},
   "outputs": [
    {
     "name": "stdout",
     "output_type": "stream",
     "text": [
      "['apple', 'grapes', 'cherry', 'orange', 'kiwi', 'melon', 'mango']\n"
     ]
    }
   ],
   "source": [
    "list2[1]=\"grapes\"\n",
    "print(list2)"
   ]
  },
  {
   "cell_type": "code",
   "execution_count": 21,
   "id": "870a9d89",
   "metadata": {},
   "outputs": [
    {
     "name": "stdout",
     "output_type": "stream",
     "text": [
      "['apple', 'grapes', 'Strawberry', 'Pineapple', 'kiwi', 'melon', 'mango']\n"
     ]
    }
   ],
   "source": [
    "#Change item values within range\n",
    "list2[2:4]=\"Strawberry\",\"Pineapple\"\n",
    "print(list2)"
   ]
  },
  {
   "cell_type": "code",
   "execution_count": 22,
   "id": "b7a3d9ca",
   "metadata": {},
   "outputs": [
    {
     "name": "stdout",
     "output_type": "stream",
     "text": [
      "['apple', 'grapes', 'Strawberry', 'Pineapple', 'banana', 'Orange', 'melon', 'mango']\n"
     ]
    }
   ],
   "source": [
    "#Replace more item than specify\n",
    "list2[4:5]=\"banana\",\"Orange\"\n",
    "print(list2)"
   ]
  },
  {
   "cell_type": "markdown",
   "id": "b1fc22e6",
   "metadata": {},
   "source": [
    "### Insert items in list"
   ]
  },
  {
   "cell_type": "markdown",
   "id": "9a2357fd",
   "metadata": {},
   "source": [
    "To insert a new list item, without replacing any of the existing values, we can use the insert() method.\n",
    "\n",
    "The insert() method inserts an item at the specified index"
   ]
  },
  {
   "cell_type": "code",
   "execution_count": 29,
   "id": "8287ad1a",
   "metadata": {},
   "outputs": [
    {
     "data": {
      "text/plain": [
       "['apple', 'banana', 'cherry']"
      ]
     },
     "execution_count": 29,
     "metadata": {},
     "output_type": "execute_result"
    }
   ],
   "source": [
    "list=[\"apple\", \"banana\", \"cherry\"]\n",
    "list"
   ]
  },
  {
   "cell_type": "code",
   "execution_count": 30,
   "id": "ed1ecf13",
   "metadata": {},
   "outputs": [],
   "source": [
    "list.insert(1,\"orange\")"
   ]
  },
  {
   "cell_type": "code",
   "execution_count": 31,
   "id": "ff3e9443",
   "metadata": {},
   "outputs": [
    {
     "name": "stdout",
     "output_type": "stream",
     "text": [
      "['apple', 'orange', 'banana', 'cherry']\n"
     ]
    }
   ],
   "source": [
    "print(list)"
   ]
  },
  {
   "cell_type": "markdown",
   "id": "c78f441d",
   "metadata": {},
   "source": [
    "### Append Items"
   ]
  },
  {
   "cell_type": "markdown",
   "id": "709353b7",
   "metadata": {},
   "source": [
    "To add an item to the end of the list, use the append() method"
   ]
  },
  {
   "cell_type": "code",
   "execution_count": 32,
   "id": "da0e275d",
   "metadata": {},
   "outputs": [
    {
     "data": {
      "text/plain": [
       "['apple', 'orange', 'banana', 'cherry']"
      ]
     },
     "execution_count": 32,
     "metadata": {},
     "output_type": "execute_result"
    }
   ],
   "source": [
    "list"
   ]
  },
  {
   "cell_type": "code",
   "execution_count": 33,
   "id": "6a20e8b4",
   "metadata": {},
   "outputs": [],
   "source": [
    "list.append(\"banana\")"
   ]
  },
  {
   "cell_type": "code",
   "execution_count": 34,
   "id": "dcab971c",
   "metadata": {},
   "outputs": [
    {
     "data": {
      "text/plain": [
       "['apple', 'orange', 'banana', 'cherry', 'banana']"
      ]
     },
     "execution_count": 34,
     "metadata": {},
     "output_type": "execute_result"
    }
   ],
   "source": [
    "list"
   ]
  },
  {
   "cell_type": "markdown",
   "id": "2a057c85",
   "metadata": {},
   "source": [
    "### Extend List"
   ]
  },
  {
   "cell_type": "markdown",
   "id": "b4509d4e",
   "metadata": {},
   "source": [
    "To append elements from another list to the current list, use the extend() method."
   ]
  },
  {
   "cell_type": "code",
   "execution_count": 1,
   "id": "9f76bd0a",
   "metadata": {},
   "outputs": [
    {
     "name": "stdout",
     "output_type": "stream",
     "text": [
      "['apple', 'banana', 'cherry', 'mango', 'pineapple', 'papaya']\n"
     ]
    }
   ],
   "source": [
    "List_1 = [\"apple\", \"banana\", \"cherry\"]\n",
    "List_2 = [\"mango\", \"pineapple\", \"papaya\"]\n",
    "List_1.extend(List_2)\n",
    "print(List_1)"
   ]
  },
  {
   "cell_type": "code",
   "execution_count": 2,
   "id": "3fedb9a5",
   "metadata": {},
   "outputs": [
    {
     "name": "stdout",
     "output_type": "stream",
     "text": [
      "['apple', 'banana', 'cherry', 'Orange', 'Mango']\n"
     ]
    }
   ],
   "source": [
    "#Extend()method is also used to append any other iterable object (Tuples, Set, Dictioneries)\n",
    "List_1 = [\"apple\", \"banana\", \"cherry\"]\n",
    "List_3 = (\"Orange\", \"Mango\")\n",
    "List_1.extend(List_3)\n",
    "print(List_1)"
   ]
  },
  {
   "cell_type": "markdown",
   "id": "ba198293",
   "metadata": {},
   "source": [
    "### Remove List Items"
   ]
  },
  {
   "cell_type": "markdown",
   "id": "bee22952",
   "metadata": {},
   "source": [
    "The remove() method removes the specified item."
   ]
  },
  {
   "cell_type": "code",
   "execution_count": 3,
   "id": "e3599e35",
   "metadata": {},
   "outputs": [
    {
     "data": {
      "text/plain": [
       "['apple', 'banana', 'cherry', 'Orange', 'Mango']"
      ]
     },
     "execution_count": 3,
     "metadata": {},
     "output_type": "execute_result"
    }
   ],
   "source": [
    "List_1"
   ]
  },
  {
   "cell_type": "code",
   "execution_count": 5,
   "id": "a247201f",
   "metadata": {},
   "outputs": [
    {
     "name": "stdout",
     "output_type": "stream",
     "text": [
      "['apple', 'cherry', 'Orange', 'Mango']\n"
     ]
    }
   ],
   "source": [
    "List_1.remove(\"banana\")\n",
    "print(List_1)"
   ]
  },
  {
   "cell_type": "markdown",
   "id": "941b3ffa",
   "metadata": {},
   "source": [
    "The pop() method removes the specified index"
   ]
  },
  {
   "cell_type": "code",
   "execution_count": 6,
   "id": "c55947ef",
   "metadata": {},
   "outputs": [
    {
     "name": "stdout",
     "output_type": "stream",
     "text": [
      "['apple', 'cherry', 'Mango']\n"
     ]
    }
   ],
   "source": [
    "List_1.pop(2)\n",
    "print(List_1)"
   ]
  },
  {
   "cell_type": "code",
   "execution_count": 7,
   "id": "802324f2",
   "metadata": {},
   "outputs": [
    {
     "name": "stdout",
     "output_type": "stream",
     "text": [
      "['apple', 'cherry']\n"
     ]
    }
   ],
   "source": [
    "#If you do not specify the index, the pop() method removes the last item.\n",
    "List_1.pop()\n",
    "print(List_1)"
   ]
  },
  {
   "cell_type": "markdown",
   "id": "0503e17c",
   "metadata": {},
   "source": [
    "The del keyword also removes the specified index"
   ]
  },
  {
   "cell_type": "code",
   "execution_count": 9,
   "id": "be7daa66",
   "metadata": {},
   "outputs": [
    {
     "name": "stdout",
     "output_type": "stream",
     "text": [
      "['apple']\n"
     ]
    }
   ],
   "source": [
    "del List_1[1]\n",
    "print(List_1)"
   ]
  },
  {
   "cell_type": "code",
   "execution_count": 10,
   "id": "2edfb599",
   "metadata": {},
   "outputs": [
    {
     "data": {
      "text/plain": [
       "['mango', 'pineapple', 'papaya']"
      ]
     },
     "execution_count": 10,
     "metadata": {},
     "output_type": "execute_result"
    }
   ],
   "source": [
    "#The del keyword can also delete the list completely\n",
    "List_2"
   ]
  },
  {
   "cell_type": "code",
   "execution_count": 11,
   "id": "ca010ab1",
   "metadata": {},
   "outputs": [],
   "source": [
    "del List_2"
   ]
  },
  {
   "cell_type": "markdown",
   "id": "9af60062",
   "metadata": {},
   "source": [
    "Clear The List\n",
    "\n",
    "The clear() method empties the list.\n",
    "\n",
    "The list still remains, but it has no content."
   ]
  },
  {
   "cell_type": "code",
   "execution_count": 14,
   "id": "f7357ac0",
   "metadata": {},
   "outputs": [
    {
     "name": "stdout",
     "output_type": "stream",
     "text": [
      "[]\n"
     ]
    }
   ],
   "source": [
    "List=[\"Banana\", \"Apple\", \"Orange\", \"Mango\", \"Papaya\"]\n",
    "List.clear()\n",
    "print(List)"
   ]
  },
  {
   "cell_type": "code",
   "execution_count": 15,
   "id": "a5a6e160",
   "metadata": {},
   "outputs": [],
   "source": [
    "## Multidimensional List\n",
    "numbers=[[1,2],[\"three\",\"four\"],[5.0,6.0]]\n",
    " #          0            1           2"
   ]
  },
  {
   "cell_type": "code",
   "execution_count": 16,
   "id": "992ce268",
   "metadata": {},
   "outputs": [
    {
     "data": {
      "text/plain": [
       "['three', 'four']"
      ]
     },
     "execution_count": 16,
     "metadata": {},
     "output_type": "execute_result"
    }
   ],
   "source": [
    "numbers[1]"
   ]
  },
  {
   "cell_type": "code",
   "execution_count": 18,
   "id": "07e11fa8",
   "metadata": {},
   "outputs": [
    {
     "name": "stdout",
     "output_type": "stream",
     "text": [
      "four\n",
      "5.0\n"
     ]
    }
   ],
   "source": [
    "print(numbers[1][1])\n",
    "print(numbers[2][0])"
   ]
  },
  {
   "cell_type": "code",
   "execution_count": null,
   "id": "2d3f169d",
   "metadata": {},
   "outputs": [],
   "source": [
    "List=[\"apple\",\"mango\",65.76,8j,\"kiwy\",\"orange\",54]"
   ]
  },
  {
   "cell_type": "code",
   "execution_count": 23,
   "id": "b7bd4dbc",
   "metadata": {},
   "outputs": [],
   "source": [
    "# print the list using loops\n",
    "for i in List:\n",
    "    print(i, end=\",\")"
   ]
  },
  {
   "cell_type": "markdown",
   "id": "1d1af1df",
   "metadata": {},
   "source": [
    "### Sort List"
   ]
  },
  {
   "cell_type": "markdown",
   "id": "44c04aa5",
   "metadata": {},
   "source": [
    "List objects have a sort() method that will sort the list alphanumerically, ascending, by default"
   ]
  },
  {
   "cell_type": "code",
   "execution_count": 24,
   "id": "ff1f3f71",
   "metadata": {},
   "outputs": [
    {
     "name": "stdout",
     "output_type": "stream",
     "text": [
      "['Apple', 'Banana', 'Mango', 'Orange', 'Papaya']\n"
     ]
    }
   ],
   "source": [
    "List=[\"Banana\", \"Apple\", \"Orange\", \"Mango\", \"Papaya\"]\n",
    "List.sort()\n",
    "print(List)"
   ]
  },
  {
   "cell_type": "code",
   "execution_count": 27,
   "id": "1c62e07a",
   "metadata": {},
   "outputs": [
    {
     "name": "stdout",
     "output_type": "stream",
     "text": [
      "[23, 50, 65, 82, 100]\n"
     ]
    }
   ],
   "source": [
    "#Sort the list Numerically\n",
    "List_1=[100, 50, 65, 82, 23]\n",
    "List_1.sort()\n",
    "print(List_1)"
   ]
  },
  {
   "cell_type": "code",
   "execution_count": 32,
   "id": "a7c97f62",
   "metadata": {},
   "outputs": [
    {
     "name": "stdout",
     "output_type": "stream",
     "text": [
      "['Papaya', 'Orange', 'Mango', 'Banana', 'Apple']\n"
     ]
    }
   ],
   "source": [
    "#To sort descending, use the keyword argument reverse = True\n",
    "List=[\"Banana\", \"Apple\", \"Orange\", \"Mango\", \"Papaya\"]\n",
    "List.sort(reverse = True)\n",
    "print(List)"
   ]
  },
  {
   "cell_type": "code",
   "execution_count": 33,
   "id": "64bfe19d",
   "metadata": {},
   "outputs": [
    {
     "name": "stdout",
     "output_type": "stream",
     "text": [
      "['Papaya', 'Mango', 'Orange', 'Apple', 'Banana']\n"
     ]
    }
   ],
   "source": [
    "#The reverse() method reverses the current sorting order of the elements\n",
    "List=[\"Banana\", \"Apple\", \"Orange\", \"Mango\", \"Papaya\"]\n",
    "List.reverse()\n",
    "print(List)"
   ]
  },
  {
   "cell_type": "markdown",
   "id": "01458823",
   "metadata": {},
   "source": [
    "### Copy List"
   ]
  },
  {
   "cell_type": "markdown",
   "id": "e5c28cb1",
   "metadata": {},
   "source": [
    "You cannot copy a list simply by typing list2 = list1, because: list2 will only be a reference to list1, \n",
    "and changes made in list1 will automatically also be made in list2"
   ]
  },
  {
   "cell_type": "code",
   "execution_count": 34,
   "id": "5db84a16",
   "metadata": {},
   "outputs": [
    {
     "name": "stdout",
     "output_type": "stream",
     "text": [
      "['apple', 'banana', 'cherry']\n"
     ]
    }
   ],
   "source": [
    "#Using Copy() Method\n",
    "List_1 = [\"apple\", \"banana\", \"cherry\"]\n",
    "List_2=List_1.copy()\n",
    "print(List_2)"
   ]
  },
  {
   "cell_type": "code",
   "execution_count": 35,
   "id": "0d6ce4d7",
   "metadata": {},
   "outputs": [
    {
     "name": "stdout",
     "output_type": "stream",
     "text": [
      "['apple', 'banana', 'cherry']\n"
     ]
    }
   ],
   "source": [
    "#Using List() Method\n",
    "List_1 = [\"apple\", \"banana\", \"cherry\"]\n",
    "List_2=list(List_1)\n",
    "print(List_2)"
   ]
  },
  {
   "cell_type": "markdown",
   "id": "e4abc78b",
   "metadata": {},
   "source": [
    "### Join Lists"
   ]
  },
  {
   "cell_type": "code",
   "execution_count": 36,
   "id": "09a843cd",
   "metadata": {},
   "outputs": [
    {
     "name": "stdout",
     "output_type": "stream",
     "text": [
      "['a', 'b', 'c', 1, 2, 3]\n"
     ]
    }
   ],
   "source": [
    "#By using '+' operator\n",
    "list1 = [\"a\", \"b\", \"c\"]\n",
    "list2 = [1, 2, 3]\n",
    "\n",
    "list3 = list1 + list2\n",
    "print(list3) "
   ]
  },
  {
   "cell_type": "code",
   "execution_count": 37,
   "id": "016f049d",
   "metadata": {},
   "outputs": [
    {
     "name": "stdout",
     "output_type": "stream",
     "text": [
      "['a', 'b', 'c', 1, 2, 3]\n"
     ]
    }
   ],
   "source": [
    "# By appending all the items from list2 into list1, one by one\n",
    "list1 = [\"a\", \"b\" , \"c\"]\n",
    "list2 = [1, 2, 3]\n",
    "\n",
    "for x in list2:\n",
    "  list1.append(x)\n",
    "\n",
    "print(list1) "
   ]
  },
  {
   "cell_type": "code",
   "execution_count": 38,
   "id": "f43c90a3",
   "metadata": {},
   "outputs": [
    {
     "name": "stdout",
     "output_type": "stream",
     "text": [
      "['a', 'b', 'c', 1, 2, 3]\n"
     ]
    }
   ],
   "source": [
    "#We can also use extend() Mathod\n",
    "list1 = [\"a\", \"b\" , \"c\"]\n",
    "list2 = [1, 2, 3]\n",
    "list1.extend(list2)\n",
    "print(list1)"
   ]
  },
  {
   "cell_type": "markdown",
   "id": "05f0a4e4",
   "metadata": {},
   "source": [
    "### Tuples"
   ]
  },
  {
   "cell_type": "markdown",
   "id": "75ba83c4",
   "metadata": {},
   "source": [
    "Tuples are used to store multiple items in a single variable.\n",
    "\n",
    "Tuple is one of 4 built-in data types in Python used to store collections of data, the other 3 are List, Set, and Dictionary, all with different qualities and usage.\n",
    "\n",
    "A tuple is a collection which is ordered and unchangeable.\n",
    "\n",
    "Tuples are written with round brackets ( )."
   ]
  },
  {
   "cell_type": "code",
   "execution_count": 39,
   "id": "3429368a",
   "metadata": {},
   "outputs": [
    {
     "name": "stdout",
     "output_type": "stream",
     "text": [
      "('apple', 'banana', 'cherry')\n"
     ]
    }
   ],
   "source": [
    "thistuple = (\"apple\", \"banana\", \"cherry\")\n",
    "print(thistuple)"
   ]
  },
  {
   "cell_type": "markdown",
   "id": "5d3503ec",
   "metadata": {},
   "source": [
    "### Access items"
   ]
  },
  {
   "cell_type": "code",
   "execution_count": 40,
   "id": "2f3b7b80",
   "metadata": {},
   "outputs": [
    {
     "name": "stdout",
     "output_type": "stream",
     "text": [
      "(1, 3, 5.6, 'hi', 6j, True)\n"
     ]
    }
   ],
   "source": [
    "# how to create tuple\n",
    "t1=(1,3,5.6,\"hi\",6j,True)\n",
    "# print the Tuple\n",
    "print(t1)"
   ]
  },
  {
   "cell_type": "code",
   "execution_count": 41,
   "id": "a93ebce3",
   "metadata": {},
   "outputs": [
    {
     "name": "stdout",
     "output_type": "stream",
     "text": [
      "<class 'tuple'>\n",
      "6\n",
      "5.6\n",
      "5.6\n",
      "(3, 5.6, 'hi', 6j, True)\n"
     ]
    }
   ],
   "source": [
    "# check the type of tuple\n",
    "print(type(t1))\n",
    "# check the length of tuple\n",
    "print(len(t1))\n",
    "# print 3rd element i.e 5.6 with Positive Indexing\n",
    "print(t1[2])\n",
    "#print 3rd element i.e 5.6 with Negative Indexing\n",
    "print(t1[-4])\n",
    "# print all elements from tuple starting with 3\n",
    "print(t1[1:])"
   ]
  },
  {
   "cell_type": "markdown",
   "id": "6a8092e2",
   "metadata": {},
   "source": [
    "### Slicing"
   ]
  },
  {
   "cell_type": "code",
   "execution_count": 42,
   "id": "ab135ba4",
   "metadata": {},
   "outputs": [
    {
     "name": "stdout",
     "output_type": "stream",
     "text": [
      "(1, 3, 5.6, 'hi', 6j)\n",
      "(1, 3, 5.6, 'hi', 6j)\n"
     ]
    }
   ],
   "source": [
    "# print all tuple elements till 6j\n",
    "print(t1[0:5])\n",
    "print(t1[:5])"
   ]
  },
  {
   "cell_type": "code",
   "execution_count": 43,
   "id": "f4e4c130",
   "metadata": {},
   "outputs": [
    {
     "name": "stdout",
     "output_type": "stream",
     "text": [
      "(5.6, 'hi')\n",
      "(5.6, 'hi')\n"
     ]
    }
   ],
   "source": [
    "# make a slice of t1 with 5.6 and \"hi\" & make the new subtuple\n",
    "print(t1[-4:-2])\n",
    "t2=t1[-4:-2]\n",
    "print(t2)"
   ]
  },
  {
   "cell_type": "code",
   "execution_count": 3,
   "id": "1619af79",
   "metadata": {},
   "outputs": [
    {
     "name": "stdout",
     "output_type": "stream",
     "text": [
      "Yes, given item is present in tuple\n"
     ]
    }
   ],
   "source": [
    "#Check if item is present in tuple\n",
    "t1=(1,3,5.6,\"hi\",6j,True)\n",
    "if (\"hi\" in t1):\n",
    "    print(\"Yes, given item is present in tuple\")"
   ]
  },
  {
   "cell_type": "markdown",
   "id": "25e392fc",
   "metadata": {},
   "source": [
    "### Update Tuples"
   ]
  },
  {
   "cell_type": "markdown",
   "id": "7c8ee39b",
   "metadata": {},
   "source": [
    "Tuples are unchangeable, or immutable.You can convert the tuple into a list, change the list, and convert the list back into a tuple."
   ]
  },
  {
   "cell_type": "code",
   "execution_count": 6,
   "id": "2cc7ff2d",
   "metadata": {},
   "outputs": [
    {
     "name": "stdout",
     "output_type": "stream",
     "text": [
      "('Divya', 'Java', 5, 'Mango', 8.6, 'Notebook')\n"
     ]
    }
   ],
   "source": [
    "a=(\"Divya\",\"Python\",5,\"Mango\",8.6,\"Notebook\")\n",
    "b=list(a)    #Convert tuple into list\n",
    "b[1]=\"Java\"  #Update value in list\n",
    "a=tuple(b)   #Again convert list intp tuple\n",
    "print(a)     #Print Updated tuple"
   ]
  },
  {
   "cell_type": "markdown",
   "id": "adc8bb27",
   "metadata": {},
   "source": [
    "### Add Items"
   ]
  },
  {
   "cell_type": "code",
   "execution_count": 9,
   "id": "3e7f2cb0",
   "metadata": {},
   "outputs": [
    {
     "name": "stdout",
     "output_type": "stream",
     "text": [
      "('Divya', 'Python', 5, 'Mango', 8.6, 'Notebook', 'Orange')\n"
     ]
    }
   ],
   "source": [
    "#By using append() method\n",
    "a=(\"Divya\",\"Python\",5,\"Mango\",8.6,\"Notebook\")\n",
    "b=list(a)\n",
    "b.append(\"Orange\")\n",
    "a=tuple(b)\n",
    "print(a)"
   ]
  },
  {
   "cell_type": "code",
   "execution_count": 13,
   "id": "af2b7bd1",
   "metadata": {},
   "outputs": [
    {
     "name": "stdout",
     "output_type": "stream",
     "text": [
      "('Divya', 'Python', 5, 'Mango', 8.6, 'Notebook', 'Machine Learning', 74, 'Pen')\n"
     ]
    }
   ],
   "source": [
    "#By adding tuple in tuple\n",
    "a=(\"Divya\",\"Python\",5,\"Mango\",8.6,\"Notebook\")\n",
    "b=(\"Machine Learning\",74,\"Pen\")\n",
    "a+=b    #It means a=a+b\n",
    "print(a)"
   ]
  },
  {
   "cell_type": "markdown",
   "id": "d3c6e6ab",
   "metadata": {},
   "source": [
    "### Remove Items"
   ]
  },
  {
   "cell_type": "code",
   "execution_count": 14,
   "id": "943a0df6",
   "metadata": {},
   "outputs": [
    {
     "name": "stdout",
     "output_type": "stream",
     "text": [
      "('Divya', 'Python', 'Mango', 8.6, 'Notebook')\n"
     ]
    }
   ],
   "source": [
    "#By using remove() method\n",
    "a=(\"Divya\",\"Python\",5,\"Mango\",8.6,\"Notebook\")\n",
    "b=list(a)\n",
    "b.remove(5)\n",
    "a=tuple(b)\n",
    "print(a)"
   ]
  },
  {
   "cell_type": "code",
   "execution_count": 18,
   "id": "323ef48f",
   "metadata": {},
   "outputs": [],
   "source": [
    "#Delete the tuple completely by using del keyword\n",
    "Tuple=(\"Machine Learning\",74,\"Pen\")\n",
    "del Tuple    #Tuple get deleted"
   ]
  },
  {
   "cell_type": "markdown",
   "id": "923c6ae6",
   "metadata": {},
   "source": [
    "### Unpack Tuples"
   ]
  },
  {
   "cell_type": "markdown",
   "id": "16b23b90",
   "metadata": {},
   "source": [
    "When we create a tuple, we normally assign values to it. This is called \"packing\" a tuple\n",
    "But, in Python, we are also allowed to extract the values back into variables. This is called \"unpacking\""
   ]
  },
  {
   "cell_type": "code",
   "execution_count": 32,
   "id": "f5752884",
   "metadata": {},
   "outputs": [
    {
     "name": "stdout",
     "output_type": "stream",
     "text": [
      "hi\n",
      "Mobile\n"
     ]
    }
   ],
   "source": [
    "tuple=(\"hi\", \"Mobile\")\n",
    "(hello, Nokia)=tuple\n",
    "print(hello)\n",
    "print(Nokia)"
   ]
  },
  {
   "cell_type": "code",
   "execution_count": 29,
   "id": "c229ebc4",
   "metadata": {},
   "outputs": [
    {
     "name": "stdout",
     "output_type": "stream",
     "text": [
      "apple\n",
      "banana\n",
      "cherry\n"
     ]
    }
   ],
   "source": [
    "fruits = (\"apple\", \"banana\", \"cherry\")\n",
    "\n",
    "(green, yellow, red) = fruits\n",
    "\n",
    "print(green)\n",
    "print(yellow)\n",
    "print(red)"
   ]
  },
  {
   "cell_type": "markdown",
   "id": "b0c297ad",
   "metadata": {},
   "source": [
    "### Loop Tuples"
   ]
  },
  {
   "cell_type": "code",
   "execution_count": 34,
   "id": "cd80a0f5",
   "metadata": {},
   "outputs": [
    {
     "name": "stdout",
     "output_type": "stream",
     "text": [
      "Divya\n",
      "Python\n",
      "5\n",
      "Mango\n",
      "8.6\n",
      "Notebook\n"
     ]
    }
   ],
   "source": [
    "#Using For loop\n",
    "Tuple=(\"Divya\",\"Python\",5,\"Mango\",8.6,\"Notebook\")\n",
    "for x in Tuple:\n",
    "    print(x)"
   ]
  },
  {
   "cell_type": "code",
   "execution_count": 36,
   "id": "77616989",
   "metadata": {},
   "outputs": [
    {
     "name": "stdout",
     "output_type": "stream",
     "text": [
      "Divya\n",
      "Python\n",
      "5\n",
      "Mango\n",
      "8.6\n",
      "Notebook\n"
     ]
    }
   ],
   "source": [
    "#Loop through index Number\n",
    "#You can also loop through the tuple items by referring to their index number.\n",
    "#Use the range() and len() functions to create a suitable iterable\n",
    "Tuple=(\"Divya\",\"Python\",5,\"Mango\",8.6,\"Notebook\")\n",
    "for i in range(len(Tuple)):\n",
    "    print(Tuple[i])"
   ]
  },
  {
   "cell_type": "markdown",
   "id": "ff7a7e12",
   "metadata": {},
   "source": [
    "### Join Tuples"
   ]
  },
  {
   "cell_type": "code",
   "execution_count": 1,
   "id": "c6777edb",
   "metadata": {},
   "outputs": [
    {
     "name": "stdout",
     "output_type": "stream",
     "text": [
      "('Pen', 'Page', 'Notebook', 1, 2, 3)\n"
     ]
    }
   ],
   "source": [
    "#By Using \"+\" operator\n",
    "a=(\"Pen\",\"Page\",\"Notebook\")\n",
    "b=(1,2,3)\n",
    "c=a+b\n",
    "print(c)"
   ]
  },
  {
   "cell_type": "code",
   "execution_count": 2,
   "id": "f581d143",
   "metadata": {},
   "outputs": [
    {
     "name": "stdout",
     "output_type": "stream",
     "text": [
      "('Pen', 'Page', 'Notebook', 'Pen', 'Page', 'Notebook')\n"
     ]
    }
   ],
   "source": [
    "#Multiply Tuples by using \"*\" operator\n",
    "a=(\"Pen\",\"Page\",\"Notebook\")\n",
    "Tuple = a*2\n",
    "print(Tuple)"
   ]
  },
  {
   "cell_type": "markdown",
   "id": "cb38ce7e",
   "metadata": {},
   "source": [
    "### Tuple Methods"
   ]
  },
  {
   "cell_type": "code",
   "execution_count": 6,
   "id": "57ca029a",
   "metadata": {},
   "outputs": [
    {
     "name": "stdout",
     "output_type": "stream",
     "text": [
      "Count of hi is  2\n",
      "Count of 1 is  3\n"
     ]
    }
   ],
   "source": [
    "#count() Method - Returns the number of times a specified value occurs in a tuple\n",
    "Tuple=(\"hi\",1,1,\"Orange\",55,1,\"hi\")\n",
    "print(\"Count of hi is \", Tuple.count(\"hi\"))\n",
    "print(\"Count of 1 is \", Tuple.count(1))"
   ]
  },
  {
   "cell_type": "code",
   "execution_count": 7,
   "id": "37efa8e8",
   "metadata": {},
   "outputs": [
    {
     "name": "stdout",
     "output_type": "stream",
     "text": [
      "Index of 55 is  4\n",
      "Index of Orange is 3\n"
     ]
    }
   ],
   "source": [
    "#index() Method - Searches the tuple for a specified value and returns the position of where it was found\n",
    "Tuple=(\"hi\",1,1,\"Orange\",55,1,\"hi\")\n",
    "print(\"Index of 55 is \",Tuple.index(55))\n",
    "print(\"Index of Orange is\", Tuple.index(\"Orange\"))"
   ]
  },
  {
   "cell_type": "markdown",
   "id": "08b8ebb7",
   "metadata": {},
   "source": [
    "### Sets"
   ]
  },
  {
   "cell_type": "markdown",
   "id": "4050b63a",
   "metadata": {},
   "source": [
    "Sets are used to store multiple items in a single variable.\n",
    "\n",
    "set is unordered datatype\n",
    "\n",
    "set is uninxed datatype\n",
    "\n",
    "set is mutable for only few operations\n",
    "\n",
    "set allows different type of elements\n",
    "\n",
    "duplicate elements are not allowed\n",
    "\n",
    "{ } is used to represent a set"
   ]
  },
  {
   "cell_type": "markdown",
   "id": "77fc953a",
   "metadata": {},
   "source": [
    "### Create a set"
   ]
  },
  {
   "cell_type": "code",
   "execution_count": 1,
   "id": "3ca76c9c",
   "metadata": {},
   "outputs": [],
   "source": [
    "Set = {\"Banana\",5.8,\"Mango\",\"Orange\",1,\"Book\"}"
   ]
  },
  {
   "cell_type": "code",
   "execution_count": 2,
   "id": "6de5a960",
   "metadata": {},
   "outputs": [
    {
     "name": "stdout",
     "output_type": "stream",
     "text": [
      "{1, 'Banana', 5.8, 'Mango', 'Book', 'Orange'}\n",
      "<class 'set'>\n",
      "6\n"
     ]
    }
   ],
   "source": [
    "print(Set)\n",
    "print(type(Set))\n",
    "print(len(Set))"
   ]
  },
  {
   "cell_type": "code",
   "execution_count": 6,
   "id": "400af271",
   "metadata": {},
   "outputs": [
    {
     "name": "stdout",
     "output_type": "stream",
     "text": [
      "banana is present in set\n"
     ]
    }
   ],
   "source": [
    "#Check if item is present or not\n",
    "Set = {\"Banana\",5.8,\"Mango\",\"Orange\",1,\"Book\"}\n",
    "if \"Banana\" in Set:\n",
    "    print(\"banana is present in set\")"
   ]
  },
  {
   "cell_type": "markdown",
   "id": "73a7fb14",
   "metadata": {},
   "source": [
    "### Access Items"
   ]
  },
  {
   "cell_type": "code",
   "execution_count": 4,
   "id": "af0890e4",
   "metadata": {},
   "outputs": [
    {
     "name": "stdout",
     "output_type": "stream",
     "text": [
      "1\n",
      "Banana\n",
      "5.8\n",
      "Mango\n",
      "Book\n",
      "Orange\n"
     ]
    }
   ],
   "source": [
    "#By using for loop and in keyword\n",
    "Set = {\"Banana\",5.8,\"Mango\",\"Orange\",1,\"Book\"}\n",
    "for x in Set:\n",
    "    print(x)"
   ]
  },
  {
   "cell_type": "markdown",
   "id": "6f008e05",
   "metadata": {},
   "source": [
    "### Change Items"
   ]
  },
  {
   "cell_type": "markdown",
   "id": "9df26db4",
   "metadata": {},
   "source": [
    "Once a set is created, you cannot change its items, but you can add new items."
   ]
  },
  {
   "cell_type": "code",
   "execution_count": 8,
   "id": "abed2405",
   "metadata": {},
   "outputs": [
    {
     "name": "stdout",
     "output_type": "stream",
     "text": [
      "{1, 'Banana', 5.8, 'Mango', 'hi', 'Book', 'Orange'}\n"
     ]
    }
   ],
   "source": [
    "#Add items - by using add() method\n",
    "Set = {\"Banana\",5.8,\"Mango\",\"Orange\",1,\"Book\"}\n",
    "Set.add(\"hi\")\n",
    "print(Set)"
   ]
  },
  {
   "cell_type": "code",
   "execution_count": 9,
   "id": "c74416e0",
   "metadata": {},
   "outputs": [
    {
     "name": "stdout",
     "output_type": "stream",
     "text": [
      "{1, 'Banana', 'Apple', 5.8, 'Mango', 'Book', 'Orange', 80, 'Hello'}\n"
     ]
    }
   ],
   "source": [
    "#Add item from another set into the current set - By using update() method\n",
    "Set1= {\"Banana\",5.8,\"Mango\",\"Orange\",1,\"Book\"}\n",
    "Set2={\"Apple\",80,\"Hello\"}\n",
    "Set1.update(Set2)\n",
    "print(Set1)"
   ]
  },
  {
   "cell_type": "code",
   "execution_count": 16,
   "id": "eba75ccb",
   "metadata": {},
   "outputs": [
    {
     "name": "stdout",
     "output_type": "stream",
     "text": [
      "{1, 'Banana', 'Apple', 5.8, 'Mango', 'Book', 'Orange', 80, 'Hello'}\n",
      "{1, 98, 'Banana', 'Apple', 5.8, 'Pen', 'Mango', 'Book', 'Orange', 45.5, 80, 'Hello', 'Hi'}\n"
     ]
    }
   ],
   "source": [
    "#The object in the update() method does not have to be a set, it can be any iterable object\n",
    "#(tuples, lists, dictionaries etc.)\n",
    "Set= {\"Banana\",5.8,\"Mango\",\"Orange\",1,\"Book\"}\n",
    "List=[\"Apple\",80,\"Hello\"]\n",
    "Set.update(List)     #List is added into Set\n",
    "print(Set)\n",
    "Tuple=(\"Pen\", 45.5, \"Hi\",98)\n",
    "Set.update(Tuple)    #Tuple is added into Set\n",
    "print(Set)"
   ]
  },
  {
   "cell_type": "code",
   "execution_count": 11,
   "id": "55eb528d",
   "metadata": {},
   "outputs": [
    {
     "name": "stdout",
     "output_type": "stream",
     "text": [
      "{'orange', 'kiwi', 'banana', 'cherry', 'apple'}\n"
     ]
    }
   ],
   "source": [
    "thisset = {\"apple\", \"banana\", \"cherry\"}\n",
    "mylist = [\"kiwi\", \"orange\"]\n",
    "\n",
    "thisset.update(mylist)\n",
    "\n",
    "print(thisset) "
   ]
  },
  {
   "cell_type": "markdown",
   "id": "e98b08bf",
   "metadata": {},
   "source": [
    "### Remove Item"
   ]
  },
  {
   "cell_type": "code",
   "execution_count": 17,
   "id": "d6d0a793",
   "metadata": {},
   "outputs": [
    {
     "name": "stdout",
     "output_type": "stream",
     "text": [
      "{1, 'Banana', 5.8, 'Book', 'Orange'}\n"
     ]
    }
   ],
   "source": [
    "#By using remove() method\n",
    "Set= {\"Banana\",5.8,\"Mango\",\"Orange\",1,\"Book\"}\n",
    "Set.remove(\"Mango\")\n",
    "print(Set)"
   ]
  },
  {
   "cell_type": "code",
   "execution_count": 19,
   "id": "f2f627ed",
   "metadata": {},
   "outputs": [
    {
     "name": "stdout",
     "output_type": "stream",
     "text": [
      "{'Banana', 5.8, 'Book', 'Orange'}\n"
     ]
    }
   ],
   "source": [
    "#By using discard() method\n",
    "Set = {1, 'Banana', 5.8, 'Book', 'Orange'}\n",
    "Set.discard(1)\n",
    "print(Set)"
   ]
  },
  {
   "cell_type": "code",
   "execution_count": 21,
   "id": "524cc8e4",
   "metadata": {},
   "outputs": [
    {
     "name": "stdout",
     "output_type": "stream",
     "text": [
      "{'Banana', 5.8, 'Orange'}\n"
     ]
    }
   ],
   "source": [
    "#By using pop() method - pop() method removes last item from list(\n",
    "#As list is unordered, So we don't know that which item will get remove)\n",
    "Set = {'Banana', 5.8, 'Book', 'Orange'}\n",
    "Set.pop()\n",
    "print(Set)"
   ]
  },
  {
   "cell_type": "code",
   "execution_count": 22,
   "id": "56af01ee",
   "metadata": {},
   "outputs": [
    {
     "name": "stdout",
     "output_type": "stream",
     "text": [
      "set()\n"
     ]
    }
   ],
   "source": [
    "#clear() method - It will empty the set\n",
    "Set = {'Banana', 5.8, 'Orange'}\n",
    "Set.clear()\n",
    "print(Set)"
   ]
  },
  {
   "cell_type": "code",
   "execution_count": 24,
   "id": "d5eece04",
   "metadata": {},
   "outputs": [],
   "source": [
    "#del Keyword - Delete the set completely\n",
    "Set = {'Banana', 5.8, 'Orange'}\n",
    "del Set   #Whole set get deleted"
   ]
  },
  {
   "cell_type": "markdown",
   "id": "3213e522",
   "metadata": {},
   "source": [
    "### Loop Sets"
   ]
  },
  {
   "cell_type": "code",
   "execution_count": 27,
   "id": "8e6ca144",
   "metadata": {},
   "outputs": [
    {
     "name": "stdout",
     "output_type": "stream",
     "text": [
      "1\n",
      "2\n",
      "3\n",
      "4\n",
      "34\n",
      "5.6\n",
      "4.56\n",
      "amol\n",
      "(2+3j)\n",
      "hi\n"
     ]
    }
   ],
   "source": [
    "#By using For loop\n",
    "Set = {1, 2, 3, 4, 'amol', 34, (2+3j), 5.6, 'hi', 4.56}\n",
    "for x in Set:\n",
    "    print(x)"
   ]
  },
  {
   "cell_type": "markdown",
   "id": "7548e2ef",
   "metadata": {},
   "source": [
    "### Join Sets"
   ]
  },
  {
   "cell_type": "code",
   "execution_count": 28,
   "id": "c0ac7e52",
   "metadata": {},
   "outputs": [
    {
     "name": "stdout",
     "output_type": "stream",
     "text": [
      "{'Apple', 100, 4.5, 9.562, 'Hi', 'orange', 'Python'}\n"
     ]
    }
   ],
   "source": [
    "#By union() method - The union() method returns a new set with all items from both sets Also exclude duplicate value\n",
    "set1={\"Hi\",4.5,\"Apple\",100}\n",
    "set2={9.562,\"orange\",\"Python\"}\n",
    "set3=set1.union(set2)\n",
    "print(set3)"
   ]
  },
  {
   "cell_type": "code",
   "execution_count": 30,
   "id": "976bc7eb",
   "metadata": {},
   "outputs": [
    {
     "name": "stdout",
     "output_type": "stream",
     "text": [
      "{'Apple', 100, 4.5, 9.562, 'Hi', 'orange', 'Python'}\n"
     ]
    }
   ],
   "source": [
    "#By update() method-update() method that inserts all the items from one set into anotherAlso exclude duplicate value\n",
    "set1={\"Hi\",4.5,\"Apple\",100}\n",
    "set2={9.562,\"orange\",\"Python\"}\n",
    "set1.update(set2)\n",
    "print(set1)"
   ]
  },
  {
   "cell_type": "code",
   "execution_count": 32,
   "id": "9a81fdfd",
   "metadata": {},
   "outputs": [
    {
     "name": "stdout",
     "output_type": "stream",
     "text": [
      "{'Apple', 4.5}\n"
     ]
    }
   ],
   "source": [
    "#Intersection_update() method / intersection() method- will keep only the items that are present in both sets\n",
    "set1 = {\"Hi\",4.5,\"Apple\",100}\n",
    "set2 = {\"Apple\",\"mango\",4.5,\"Hello\"}\n",
    "set1.intersection_update(set2)\n",
    "print(set1)"
   ]
  },
  {
   "cell_type": "code",
   "execution_count": 33,
   "id": "f39d847f",
   "metadata": {},
   "outputs": [
    {
     "name": "stdout",
     "output_type": "stream",
     "text": [
      "{'Apple', 100, 'Hi', 4.5}\n"
     ]
    }
   ],
   "source": [
    "set1 = {\"Hi\",4.5,\"Apple\",100}\n",
    "set2 = {\"Apple\",\"mango\",4.5,\"Hello\"}\n",
    "set1.intersection(set2)\n",
    "print(set1)"
   ]
  },
  {
   "cell_type": "code",
   "execution_count": 37,
   "id": "6a3ff815",
   "metadata": {},
   "outputs": [
    {
     "name": "stdout",
     "output_type": "stream",
     "text": [
      "{100, 'mango', 'Hello', 'Hi'}\n"
     ]
    }
   ],
   "source": [
    "#symmetric_difference_update() method /Symmetric_difference() method / - will keep only the elements that \n",
    "#are NOT present in both setswill keep only the elements that are NOT present in both sets\n",
    "set1 = {\"Hi\",4.5,\"Apple\",100}\n",
    "set2 = {\"Apple\",\"mango\",4.5,\"Hello\"}\n",
    "set1.symmetric_difference_update(set2)\n",
    "print(set1)"
   ]
  },
  {
   "cell_type": "code",
   "execution_count": 38,
   "id": "2cd01db0",
   "metadata": {},
   "outputs": [
    {
     "name": "stdout",
     "output_type": "stream",
     "text": [
      "{'Apple', 100, 'Hi', 4.5}\n"
     ]
    }
   ],
   "source": [
    "set1 = {\"Hi\",4.5,\"Apple\",100}\n",
    "set2 = {\"Apple\",\"mango\",4.5,\"Hello\"}\n",
    "set1.symmetric_difference(set2)\n",
    "print(set1)"
   ]
  },
  {
   "cell_type": "code",
   "execution_count": 39,
   "id": "b6809f87",
   "metadata": {},
   "outputs": [
    {
     "name": "stdout",
     "output_type": "stream",
     "text": [
      "setC: {'ml', 'dbms', 'java', 'c', 'coa', 'ds', 'python', 'os'}\n",
      "setD: {'python', 'c', 'java'}\n"
     ]
    }
   ],
   "source": [
    "setC={\"coa\",\"os\",\"c\",\"ds\",\"dbms\",'python',\"ml\",\"java\"}\n",
    "setD={\"c\",'python',\"java\"}\n",
    "print(\"setC:\",setC)\n",
    "print(\"setD:\",setD)"
   ]
  },
  {
   "cell_type": "code",
   "execution_count": 40,
   "id": "4937fe44",
   "metadata": {},
   "outputs": [
    {
     "name": "stdout",
     "output_type": "stream",
     "text": [
      "True\n",
      "False\n"
     ]
    }
   ],
   "source": [
    "#is subset() method - Returns whether another set contains this set or not\n",
    "print(setD.issubset(setC))\n",
    "print(setC.issubset(setD))"
   ]
  },
  {
   "cell_type": "code",
   "execution_count": 41,
   "id": "432f2b17",
   "metadata": {},
   "outputs": [
    {
     "name": "stdout",
     "output_type": "stream",
     "text": [
      "False\n",
      "True\n"
     ]
    }
   ],
   "source": [
    "#is superset() method - Returns whether this set contains another set or not\n",
    "print(setD.issuperset(setC))\n",
    "print(setC.issuperset(setD))"
   ]
  },
  {
   "cell_type": "code",
   "execution_count": 43,
   "id": "853171f1",
   "metadata": {},
   "outputs": [
    {
     "name": "stdout",
     "output_type": "stream",
     "text": [
      "True\n",
      "False\n"
     ]
    }
   ],
   "source": [
    "# is disjoint() method - Returns whether two sets have a intersection or not\n",
    "setA={\"apple\",\"banana\",\"mango\"}\n",
    "setB={\"google\",\"microsoft\",\"apple\"}\n",
    "print(setA.isdisjoint(setC))\n",
    "print(setA.isdisjoint(setB))"
   ]
  },
  {
   "cell_type": "markdown",
   "id": "fea9f419",
   "metadata": {},
   "source": [
    "### Dictionaries"
   ]
  },
  {
   "cell_type": "markdown",
   "id": "9a9ee9f3",
   "metadata": {},
   "source": [
    " Dictionary is unordered\n",
    "    \n",
    "it is changable\n",
    "\n",
    "{} is used to create dictionaries\n",
    "\n",
    "Elements will be in the forms of \"key:value\" pair\n",
    "\n"
   ]
  },
  {
   "cell_type": "code",
   "execution_count": 45,
   "id": "9897fcf3",
   "metadata": {},
   "outputs": [
    {
     "name": "stdout",
     "output_type": "stream",
     "text": [
      "{'brand': 'BMW', 'model': '720d', 'year': 2010, 'price': 5400000.0}\n"
     ]
    }
   ],
   "source": [
    "#Create dictionary\n",
    "vehicle_dict={\n",
    "    \"brand\":\"BMW\",\n",
    "    \"model\":\"720d\",\n",
    "    \"year\":2010,\n",
    "    \"price\":5400000.00\n",
    "}\n",
    "print(vehicle_dict)"
   ]
  },
  {
   "cell_type": "markdown",
   "id": "c102de8e",
   "metadata": {},
   "source": [
    "### Accessing items"
   ]
  },
  {
   "cell_type": "code",
   "execution_count": 48,
   "id": "1819e974",
   "metadata": {},
   "outputs": [
    {
     "name": "stdout",
     "output_type": "stream",
     "text": [
      "720d\n"
     ]
    }
   ],
   "source": [
    "#You can access the items of a dictionary by referring to its key name, inside square brackets\n",
    "vehicle_dict={\n",
    "    \"brand\":\"BMW\",\n",
    "    \"model\":\"720d\",\n",
    "    \"year\":2010,\n",
    "    \"price\":5400000.00\n",
    "}\n",
    "x=vehicle_dict[\"model\"]\n",
    "print(x)"
   ]
  },
  {
   "cell_type": "code",
   "execution_count": 50,
   "id": "d52c71ef",
   "metadata": {},
   "outputs": [
    {
     "name": "stdout",
     "output_type": "stream",
     "text": [
      "BMW\n"
     ]
    }
   ],
   "source": [
    "#By using get() method\n",
    "x=vehicle_dict.get(\"brand\")\n",
    "print(x)"
   ]
  },
  {
   "cell_type": "code",
   "execution_count": 51,
   "id": "1a1d2667",
   "metadata": {},
   "outputs": [
    {
     "name": "stdout",
     "output_type": "stream",
     "text": [
      "dict_keys(['brand', 'model', 'year', 'price'])\n"
     ]
    }
   ],
   "source": [
    "#The keys() method - it will return a list of all the keys in the dictionary\n",
    "x=vehicle_dict.keys()\n",
    "print(x)"
   ]
  },
  {
   "cell_type": "code",
   "execution_count": 54,
   "id": "aa116c59",
   "metadata": {},
   "outputs": [
    {
     "name": "stdout",
     "output_type": "stream",
     "text": [
      "dict_values(['BMW', '720d', 2010, 5400000.0])\n"
     ]
    }
   ],
   "source": [
    "#values() method - it will return a list of all the values in the dictionary\n",
    "vehicle_dict={\n",
    "    \"brand\":\"BMW\",\n",
    "    \"model\":\"720d\",\n",
    "    \"year\":2010,\n",
    "    \"price\":5400000.00\n",
    "}\n",
    "x=vehicle_dict.values()\n",
    "print(x)"
   ]
  },
  {
   "cell_type": "code",
   "execution_count": 55,
   "id": "f22165b7",
   "metadata": {},
   "outputs": [
    {
     "name": "stdout",
     "output_type": "stream",
     "text": [
      "dict_items([('brand', 'BMW'), ('model', '720d'), ('year', 2010), ('price', 5400000.0)])\n"
     ]
    }
   ],
   "source": [
    "#items() method - it will return each item in a dictionary, as tuples in a list.\n",
    "x=vehicle_dict.items()\n",
    "print(x)"
   ]
  },
  {
   "cell_type": "code",
   "execution_count": 57,
   "id": "3d756f9f",
   "metadata": {},
   "outputs": [
    {
     "name": "stdout",
     "output_type": "stream",
     "text": [
      "Model is present\n"
     ]
    }
   ],
   "source": [
    "#Check if key exists\n",
    "if \"model\" in vehicle_dict:\n",
    "    print(\"Model is present\")"
   ]
  },
  {
   "cell_type": "markdown",
   "id": "8c8293e4",
   "metadata": {},
   "source": [
    "### Change Dictionary Items\n"
   ]
  },
  {
   "cell_type": "code",
   "execution_count": 60,
   "id": "11309676",
   "metadata": {},
   "outputs": [
    {
     "name": "stdout",
     "output_type": "stream",
     "text": [
      "{'brand': 'BMW', 'model': '720d', 'year': 2015, 'price': 5400000.0}\n"
     ]
    }
   ],
   "source": [
    "#You can change the value of a specific item by referring to its key name\n",
    "vehicle_dict[\"year\"]=2015\n",
    "print(vehicle_dict)"
   ]
  },
  {
   "cell_type": "code",
   "execution_count": 63,
   "id": "e8d9871d",
   "metadata": {},
   "outputs": [
    {
     "name": "stdout",
     "output_type": "stream",
     "text": [
      "{'brand': 'BMW', 'model': '720d', 'year': 2015, 'price': 5400000.0, 'colour': 'Blue'}\n"
     ]
    }
   ],
   "source": [
    "#update() method will update the dictionary with the items from the given argument\n",
    "#The argument must be a dictionary, or an iterable object with key:value pairs\n",
    "vehicle_dict.update({\"colour\":\"Blue\"})\n",
    "print(vehicle_dict)"
   ]
  },
  {
   "cell_type": "markdown",
   "id": "7446425c",
   "metadata": {},
   "source": [
    "### Add Items"
   ]
  },
  {
   "cell_type": "code",
   "execution_count": 64,
   "id": "789d94ab",
   "metadata": {},
   "outputs": [
    {
     "name": "stdout",
     "output_type": "stream",
     "text": [
      "{'brand': 'Ford', 'model': 'Mustang', 'year': 1964, 'color': 'red'}\n"
     ]
    }
   ],
   "source": [
    "thisdict =\t{\n",
    "  \"brand\": \"Ford\",\n",
    "  \"model\": \"Mustang\",\n",
    "  \"year\": 1964\n",
    "}\n",
    "thisdict[\"color\"] = \"red\"\n",
    "print(thisdict)"
   ]
  },
  {
   "cell_type": "code",
   "execution_count": 66,
   "id": "e79122ba",
   "metadata": {},
   "outputs": [
    {
     "name": "stdout",
     "output_type": "stream",
     "text": [
      "{'brand': 'Ford', 'model': 'Mustang', 'year': 1964, 'color': 'red'}\n"
     ]
    }
   ],
   "source": [
    "#update() method will update the dictionary with the items from a given argument.\n",
    "#If the item does not exist, the item will be added\n",
    "thisdict =\t{\n",
    "  \"brand\": \"Ford\",\n",
    "  \"model\": \"Mustang\",\n",
    "  \"year\": 1964\n",
    "}\n",
    "thisdict.update({\"color\": \"red\"}) \n",
    "print(thisdict)"
   ]
  },
  {
   "cell_type": "markdown",
   "id": "f230bc8b",
   "metadata": {},
   "source": [
    "### Remove Items"
   ]
  },
  {
   "cell_type": "code",
   "execution_count": 67,
   "id": "9541610f",
   "metadata": {},
   "outputs": [
    {
     "name": "stdout",
     "output_type": "stream",
     "text": [
      "{'brand': 'BMW', 'year': 2010, 'price': 5400000.0}\n"
     ]
    }
   ],
   "source": [
    "#pop() method - removes the item with the specified key name\n",
    "vehicle_dict={\n",
    "    \"brand\":\"BMW\",\n",
    "    \"model\":\"720d\",\n",
    "    \"year\":2010,\n",
    "    \"price\":5400000.00\n",
    "}\n",
    "vehicle_dict.pop(\"model\")\n",
    "print(vehicle_dict)"
   ]
  },
  {
   "cell_type": "code",
   "execution_count": 73,
   "id": "e1cf7cd8",
   "metadata": {},
   "outputs": [
    {
     "name": "stdout",
     "output_type": "stream",
     "text": [
      "{'brand': 'BMW', 'model': '720d', 'year': 2010}\n"
     ]
    }
   ],
   "source": [
    "#popitem() method - removes the last inserted item\n",
    "vehicle_dict={\n",
    "    \"brand\":\"BMW\",\n",
    "    \"model\":\"720d\",\n",
    "    \"year\":2010,\n",
    "    \"price\":5400000.00\n",
    "}\n",
    "vehicle_dict.popitem()\n",
    "print(vehicle_dict)"
   ]
  },
  {
   "cell_type": "code",
   "execution_count": 72,
   "id": "1726159b",
   "metadata": {},
   "outputs": [
    {
     "name": "stdout",
     "output_type": "stream",
     "text": [
      "{'brand': 'Ford', 'model': 'Mustang'}\n"
     ]
    }
   ],
   "source": [
    "thisdict =\t{\n",
    "  \"brand\": \"Ford\",\n",
    "  \"model\": \"Mustang\",\n",
    "  \"year\": 1964\n",
    "}\n",
    "thisdict.popitem()\n",
    "print(thisdict)"
   ]
  },
  {
   "cell_type": "code",
   "execution_count": 74,
   "id": "6aae7e88",
   "metadata": {},
   "outputs": [
    {
     "name": "stdout",
     "output_type": "stream",
     "text": [
      "{'brand': 'BMW', 'model': '720d', 'price': 5400000.0}\n"
     ]
    }
   ],
   "source": [
    "#del keyword removes the item with the specified key name\n",
    "vehicle_dict={\n",
    "    \"brand\":\"BMW\",\n",
    "    \"model\":\"720d\",\n",
    "    \"year\":2010,\n",
    "    \"price\":5400000.00\n",
    "}\n",
    "del vehicle_dict[\"year\"]\n",
    "print(vehicle_dict)"
   ]
  },
  {
   "cell_type": "code",
   "execution_count": 75,
   "id": "3e306244",
   "metadata": {},
   "outputs": [],
   "source": [
    "#del keyword also deletes dictionary completely\n",
    "del vehicle_dict"
   ]
  },
  {
   "cell_type": "code",
   "execution_count": 77,
   "id": "db6c18b9",
   "metadata": {},
   "outputs": [
    {
     "name": "stdout",
     "output_type": "stream",
     "text": [
      "{}\n"
     ]
    }
   ],
   "source": [
    "#clear() method empties the dictionary\n",
    "vehicle_dict={\n",
    "    \"brand\":\"BMW\",\n",
    "    \"model\":\"720d\",\n",
    "    \"year\":2010,\n",
    "    \"price\":5400000.00\n",
    "}\n",
    "vehicle_dict.clear()\n",
    "print(vehicle_dict)"
   ]
  },
  {
   "cell_type": "markdown",
   "id": "c9f5f4b6",
   "metadata": {},
   "source": [
    "### Loop dictionaries\n"
   ]
  },
  {
   "cell_type": "code",
   "execution_count": 79,
   "id": "f60c2ec1",
   "metadata": {},
   "outputs": [
    {
     "name": "stdout",
     "output_type": "stream",
     "text": [
      "brand\n",
      "model\n",
      "year\n",
      "price\n"
     ]
    }
   ],
   "source": [
    "#By using for loop\n",
    "vehicle_dict={\n",
    "    \"brand\":\"BMW\",\n",
    "    \"model\":\"720d\",\n",
    "    \"year\":2010,\n",
    "    \"price\":5400000.00\n",
    "}\n",
    "for x in vehicle_dict:\n",
    "    print(x)    #Print keys"
   ]
  },
  {
   "cell_type": "code",
   "execution_count": 80,
   "id": "a07f4991",
   "metadata": {},
   "outputs": [
    {
     "name": "stdout",
     "output_type": "stream",
     "text": [
      "BMW\n",
      "720d\n",
      "2010\n",
      "5400000.0\n"
     ]
    }
   ],
   "source": [
    "for x in vehicle_dict:\n",
    "    print(vehicle_dict[x])  #print values"
   ]
  },
  {
   "cell_type": "code",
   "execution_count": 82,
   "id": "34be8bbd",
   "metadata": {},
   "outputs": [
    {
     "name": "stdout",
     "output_type": "stream",
     "text": [
      "BMW\n",
      "720d\n",
      "2010\n",
      "5400000.0\n"
     ]
    }
   ],
   "source": [
    "#values() method - to return values of a dictionary\n",
    "for x in vehicle_dict.values():\n",
    "    print(x) "
   ]
  },
  {
   "cell_type": "code",
   "execution_count": 83,
   "id": "29cd9367",
   "metadata": {},
   "outputs": [
    {
     "name": "stdout",
     "output_type": "stream",
     "text": [
      "brand\n",
      "model\n",
      "year\n",
      "price\n"
     ]
    }
   ],
   "source": [
    "#keys() method to - return the keys of a dictionary\n",
    "for x in vehicle_dict.keys():\n",
    "    print(x) "
   ]
  },
  {
   "cell_type": "code",
   "execution_count": 84,
   "id": "11c00977",
   "metadata": {},
   "outputs": [
    {
     "name": "stdout",
     "output_type": "stream",
     "text": [
      "brand BMW\n",
      "model 720d\n",
      "year 2010\n",
      "price 5400000.0\n"
     ]
    }
   ],
   "source": [
    "# items() method Loop through both keys and values\n",
    "for x, y in vehicle_dict.items():\n",
    "  print(x, y) "
   ]
  },
  {
   "cell_type": "markdown",
   "id": "2125e179",
   "metadata": {},
   "source": [
    "### Copy a Dictionary"
   ]
  },
  {
   "cell_type": "code",
   "execution_count": 85,
   "id": "6522f526",
   "metadata": {},
   "outputs": [
    {
     "name": "stdout",
     "output_type": "stream",
     "text": [
      "{'brand': 'BMW', 'model': '720d', 'year': 2010, 'price': 5400000.0}\n"
     ]
    }
   ],
   "source": [
    "#copy() method\n",
    "vehicle_dict={\n",
    "    \"brand\":\"BMW\",\n",
    "    \"model\":\"720d\",\n",
    "    \"year\":2010,\n",
    "    \"price\":5400000.00\n",
    "}\n",
    "mydict=vehicle_dict.copy()\n",
    "print(mydict)"
   ]
  },
  {
   "cell_type": "code",
   "execution_count": 86,
   "id": "c045a667",
   "metadata": {},
   "outputs": [
    {
     "name": "stdout",
     "output_type": "stream",
     "text": [
      "{'brand': 'BMW', 'model': '720d', 'year': 2010, 'price': 5400000.0}\n"
     ]
    }
   ],
   "source": [
    "#dict() function\n",
    "mydict=dict(vehicle_dict)\n",
    "print(mydict)"
   ]
  },
  {
   "cell_type": "markdown",
   "id": "6fa5be7f",
   "metadata": {},
   "source": [
    "### Nested Dictionaries"
   ]
  },
  {
   "cell_type": "code",
   "execution_count": 87,
   "id": "78db9eac",
   "metadata": {},
   "outputs": [],
   "source": [
    "# how to create nested dictionaries\n",
    "# create 4 dictionaries for your mobile, TV, vehicle\n",
    "# and laptop with 4 parameters each. merge all these 4 \n",
    "# sub dictionaries into only 1 called my_dict"
   ]
  },
  {
   "cell_type": "code",
   "execution_count": 88,
   "id": "9f6b8c9b",
   "metadata": {},
   "outputs": [],
   "source": [
    "# mobile Dictionary\n",
    "mob_dict={\n",
    "    \"brand\":\"Panasonic\",\n",
    "    \"model\":\"P55Max\",\n",
    "    \"year\":2017,\n",
    "    \"no_of_sim\":2\n",
    "}"
   ]
  },
  {
   "cell_type": "code",
   "execution_count": 89,
   "id": "c14c98c0",
   "metadata": {},
   "outputs": [],
   "source": [
    "# TV Dictionary\n",
    "tv_dict={\n",
    "    \"brand\":\"Samsung\",\n",
    "    \"model\":\"i dont know model\",\n",
    "    \"year\":2016,\n",
    "    \"type\":\"LED\"\n",
    "}"
   ]
  },
  {
   "cell_type": "code",
   "execution_count": 90,
   "id": "9e591f1c",
   "metadata": {},
   "outputs": [],
   "source": [
    "# Vehicle Dictionary\n",
    "veh_dict={\n",
    "    \"brand\":\"Hero Honda\",\n",
    "    \"model\":\"CBZ Extreme\",\n",
    "    \"year\":2014,\n",
    "    \"color\":\"red\"\n",
    "}"
   ]
  },
  {
   "cell_type": "code",
   "execution_count": 91,
   "id": "39afd54a",
   "metadata": {},
   "outputs": [],
   "source": [
    "# Laptop Dictionary\n",
    "laptop_dict={\n",
    "    \"brand\":\"HP\",\n",
    "    \"model\":\"dont know\",\n",
    "    \"year\":2015,\n",
    "    \"color\":\"gray\"\n",
    "}"
   ]
  },
  {
   "cell_type": "code",
   "execution_count": 92,
   "id": "ca1b8793",
   "metadata": {},
   "outputs": [],
   "source": [
    "my_own_items_dict={\n",
    "    \"mob_dict\":mob_dict,\n",
    "    \"tv_dict\":tv_dict,\n",
    "    \"veh_dict\":veh_dict,\n",
    "    \"laptop_dict\":laptop_dict\n",
    "}"
   ]
  },
  {
   "cell_type": "code",
   "execution_count": 93,
   "id": "f9b9f4fd",
   "metadata": {},
   "outputs": [
    {
     "name": "stdout",
     "output_type": "stream",
     "text": [
      "{'mob_dict': {'brand': 'Panasonic', 'model': 'P55Max', 'year': 2017, 'no_of_sim': 2}, 'tv_dict': {'brand': 'Samsung', 'model': 'i dont know model', 'year': 2016, 'type': 'LED'}, 'veh_dict': {'brand': 'Hero Honda', 'model': 'CBZ Extreme', 'year': 2014, 'color': 'red'}, 'laptop_dict': {'brand': 'HP', 'model': 'dont know', 'year': 2015, 'color': 'gray'}}\n"
     ]
    }
   ],
   "source": [
    "print(my_own_items_dict)"
   ]
  },
  {
   "cell_type": "code",
   "execution_count": 94,
   "id": "5c5d215e",
   "metadata": {},
   "outputs": [
    {
     "name": "stdout",
     "output_type": "stream",
     "text": [
      "{'name': 'amol', 'city': 'panvel'}\n"
     ]
    }
   ],
   "source": [
    "# one more way to create dictionary using Constructor\n",
    "new_dict1=dict(name=\"amol\",city=\"panvel\")\n",
    "print(new_dict1)"
   ]
  },
  {
   "cell_type": "code",
   "execution_count": null,
   "id": "fb8e336d",
   "metadata": {},
   "outputs": [],
   "source": []
  }
 ],
 "metadata": {
  "kernelspec": {
   "display_name": "Python 3",
   "language": "python",
   "name": "python3"
  },
  "language_info": {
   "codemirror_mode": {
    "name": "ipython",
    "version": 3
   },
   "file_extension": ".py",
   "mimetype": "text/x-python",
   "name": "python",
   "nbconvert_exporter": "python",
   "pygments_lexer": "ipython3",
   "version": "3.8.8"
  }
 },
 "nbformat": 4,
 "nbformat_minor": 5
}
